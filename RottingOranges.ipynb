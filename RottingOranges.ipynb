{
 "cells": [
  {
   "cell_type": "markdown",
   "id": "8803621e-e8b0-43aa-96d0-33f0454954d6",
   "metadata": {},
   "source": [
    "### 994. Rotting Oranges"
   ]
  },
  {
   "cell_type": "markdown",
   "id": "37185d11-a7e0-4d6d-9b40-42a4592e567c",
   "metadata": {},
   "source": [
    "You are given an m x n grid where each cell can have one of three values:\n",
    "\n",
    "0 representing an empty cell,\n",
    "1 representing a fresh orange, or\n",
    "2 representing a rotten orange.\n",
    "Every minute, any fresh orange that is 4-directionally adjacent to a rotten orange becomes rotten.\n",
    "\n",
    "Return the minimum number of minutes that must elapse until no cell has a fresh orange. If this is impossible, return -1.\n",
    "\n",
    " \n",
    "\n",
    "Example 1:\n",
    "\n",
    "\n",
    "Input: grid = [[2,1,1],[1,1,0],[0,1,1]]\n",
    "Output: 4\n",
    "Example 2:\n",
    "\n",
    "Input: grid = [[2,1,1],[0,1,1],[1,0,1]]\n",
    "Output: -1\n",
    "Explanation: The orange in the bottom left corner (row 2, column 0) is never rotten, because rotting only happens 4-directionally.\n",
    "Example 3:\n",
    "\n",
    "Input: grid = [[0,2]]\n",
    "Output: 0\n",
    "Explanation: Since there are already no fresh oranges at minute 0, the answer is just 0."
   ]
  },
  {
   "cell_type": "code",
   "execution_count": null,
   "id": "cf073c81-3097-447c-b6e9-75068d9292c6",
   "metadata": {},
   "outputs": [],
   "source": [
    "class Solution:\n",
    "    def orangesRotting(self, grid: List[List[int]]) -> int:\n",
    "        q = deque() # contains rotten oranges\n",
    "        time, fresh = 0, 0\n",
    "        rows, cols = len(grid), len(grid[0])\n",
    "        directions = [[0,1],[0,-1],[1,0],[-1,0]]\n",
    "\n",
    "        for r in range(rows):\n",
    "            for c in range(cols):\n",
    "                if grid[r][c] == 1:\n",
    "                    fresh += 1\n",
    "                if grid[r][c] == 2:\n",
    "                    q.append([r,c])\n",
    "\n",
    "        while q and fresh > 0:\n",
    "            for i in range(len(q)):\n",
    "                r, c = q.popleft()\n",
    "                for dr, dc in directions:\n",
    "                    row, col = r + dr, c + dc\n",
    "                    if(row < 0 or row == rows or\n",
    "                       col < 0 or col == cols or\n",
    "                       grid[row][col] != 1):\n",
    "                       continue\n",
    "\n",
    "                    grid[row][col] = 2\n",
    "                    q.append([row, col])\n",
    "                    fresh -= 1\n",
    "\n",
    "            time += 1\n",
    "\n",
    "        return time if fresh == 0 else -1\n",
    "            "
   ]
  }
 ],
 "metadata": {
  "kernelspec": {
   "display_name": "Python 3 (ipykernel)",
   "language": "python",
   "name": "python3"
  },
  "language_info": {
   "codemirror_mode": {
    "name": "ipython",
    "version": 3
   },
   "file_extension": ".py",
   "mimetype": "text/x-python",
   "name": "python",
   "nbconvert_exporter": "python",
   "pygments_lexer": "ipython3",
   "version": "3.12.8"
  }
 },
 "nbformat": 4,
 "nbformat_minor": 5
}
