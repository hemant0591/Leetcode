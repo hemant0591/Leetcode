{
 "cells": [
  {
   "cell_type": "markdown",
   "id": "71fcfa57-4d02-40f5-a712-c9cde3c71886",
   "metadata": {},
   "source": [
    "### 130. Surrounded Regions"
   ]
  },
  {
   "cell_type": "markdown",
   "id": "eff48187-58c2-4b32-aa8e-e117f20662ea",
   "metadata": {},
   "source": [
    "You are given an m x n matrix board containing letters 'X' and 'O', capture regions that are surrounded:\n",
    "\n",
    "Connect: A cell is connected to adjacent cells horizontally or vertically.\n",
    "Region: To form a region connect every 'O' cell.\n",
    "Surround: The region is surrounded with 'X' cells if you can connect the region with 'X' cells and none of the region cells are on the edge of the board.\n",
    "To capture a surrounded region, replace all 'O's with 'X's in-place within the original board. You do not need to return anything.\n",
    "\n",
    " \n",
    "\n",
    "Example 1:\n",
    "\n",
    "Input: board = [[\"X\",\"X\",\"X\",\"X\"],[\"X\",\"O\",\"O\",\"X\"],[\"X\",\"X\",\"O\",\"X\"],[\"X\",\"O\",\"X\",\"X\"]]\n",
    "\n",
    "Output: [[\"X\",\"X\",\"X\",\"X\"],[\"X\",\"X\",\"X\",\"X\"],[\"X\",\"X\",\"X\",\"X\"],[\"X\",\"O\",\"X\",\"X\"]]\n",
    "\n",
    "Explanation:\n",
    "\n",
    "\n",
    "In the above diagram, the bottom region is not captured because it is on the edge of the board and cannot be surrounded.\n",
    "\n",
    "Example 2:\n",
    "\n",
    "Input: board = [[\"X\"]]\n",
    "\n",
    "Output: [[\"X\"]]"
   ]
  },
  {
   "cell_type": "code",
   "execution_count": null,
   "id": "5adc8ddc-a2cf-47a3-a14e-a697cf5f2f7b",
   "metadata": {},
   "outputs": [],
   "source": [
    "class Solution:\n",
    "    def solve(self, board: List[List[str]]) -> None:\n",
    "        \"\"\"\n",
    "        Do not return anything, modify board in-place instead.\n",
    "        \"\"\"\n",
    "        rows, cols = len(board), len(board[0])\n",
    "\n",
    "        def dfs(r, c):\n",
    "            if (r < 0 or c < 0 or\n",
    "                r == rows or c == cols or\n",
    "                board[r][c] != \"O\"):\n",
    "                return\n",
    "            \n",
    "            board[r][c] = \"T\"\n",
    "            \n",
    "            dfs(r + 1, c)\n",
    "            dfs(r - 1, c)\n",
    "            dfs(r, c + 1)\n",
    "            dfs(r, c - 1)\n",
    "\n",
    "        # 1. Capture unsurrounded regions (O -> T)\n",
    "        for r in range(rows):\n",
    "            for c in range(cols):\n",
    "                if (board[r][c] == \"O\" and \n",
    "                    (r in [0, rows - 1] or c in [0, cols - 1])):\n",
    "                    dfs(r, c)\n",
    "\n",
    "        # 2. Capture surrounded regions (O -> X)\n",
    "        for r in range(rows):\n",
    "            for c in range(cols):\n",
    "                if board[r][c] == \"O\":\n",
    "                    board[r][c] = \"X\"\n",
    "\n",
    "        # 3. Uncapture unsurrounded regions (T -> O)\n",
    "        for r in range(rows):\n",
    "            for c in range(cols):\n",
    "                if board[r][c] == \"T\":\n",
    "                    board[r][c] = \"O\""
   ]
  }
 ],
 "metadata": {
  "kernelspec": {
   "display_name": "Python 3 (ipykernel)",
   "language": "python",
   "name": "python3"
  },
  "language_info": {
   "codemirror_mode": {
    "name": "ipython",
    "version": 3
   },
   "file_extension": ".py",
   "mimetype": "text/x-python",
   "name": "python",
   "nbconvert_exporter": "python",
   "pygments_lexer": "ipython3",
   "version": "3.12.8"
  }
 },
 "nbformat": 4,
 "nbformat_minor": 5
}
