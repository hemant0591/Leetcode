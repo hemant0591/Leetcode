{
 "cells": [
  {
   "cell_type": "markdown",
   "id": "20bb0b8f-ed16-41ba-a8c4-192005f261d9",
   "metadata": {},
   "source": [
    "### 695. Max Area of Island"
   ]
  },
  {
   "cell_type": "markdown",
   "id": "39405e2b-ef21-4ec9-b817-7a2234d7a1f0",
   "metadata": {},
   "source": [
    "You are given an m x n binary matrix grid. An island is a group of 1's (representing land) connected 4-directionally (horizontal or vertical.) You may assume all four edges of the grid are surrounded by water.\n",
    "\n",
    "The area of an island is the number of cells with a value 1 in the island.\n",
    "\n",
    "Return the maximum area of an island in grid. If there is no island, return 0.\n",
    "\n",
    " \n",
    "\n",
    "Example 1:\n",
    "\n",
    "\n",
    "Input: grid = [[0,0,1,0,0,0,0,1,0,0,0,0,0],[0,0,0,0,0,0,0,1,1,1,0,0,0],[0,1,1,0,1,0,0,0,0,0,0,0,0],[0,1,0,0,1,1,0,0,1,0,1,0,0],[0,1,0,0,1,1,0,0,1,1,1,0,0],[0,0,0,0,0,0,0,0,0,0,1,0,0],[0,0,0,0,0,0,0,1,1,1,0,0,0],[0,0,0,0,0,0,0,1,1,0,0,0,0]]\n",
    "Output: 6\n",
    "Explanation: The answer is not 11, because the island must be connected 4-directionally.\n",
    "Example 2:\n",
    "\n",
    "Input: grid = [[0,0,0,0,0,0,0,0]]\n",
    "Output: 0"
   ]
  },
  {
   "cell_type": "code",
   "execution_count": null,
   "id": "7c8e1852-29f8-4c92-8e8d-bc9f8844ab9f",
   "metadata": {},
   "outputs": [],
   "source": [
    "class Solution:\n",
    "    def maxAreaOfIsland(self, grid: List[List[int]]) -> int:\n",
    "        directions = [[1,0],[-1,0],[0,1],[0,-1]]\n",
    "        rows, cols = len(grid), len(grid[0])\n",
    "        best = 0\n",
    "\n",
    "        def dfs(r,c):\n",
    "            if (r < 0 or c < 0 or\n",
    "                r >= rows or c >= cols or\n",
    "                grid[r][c] == 0):\n",
    "                return 0\n",
    "\n",
    "            grid[r][c] = 0\n",
    "            area = 1 # for the current cell\n",
    "\n",
    "            for dr, dc in directions:\n",
    "                nr, nc = r + dr, c + dc\n",
    "                area += dfs(nr, nc)\n",
    "            return area\n",
    "\n",
    "        for r in range(rows):\n",
    "            for c in range(cols):\n",
    "                if grid[r][c] == 1:\n",
    "                    island_area = dfs(r, c)\n",
    "                    if island_area > best:\n",
    "                        best = island_area\n",
    "        \n",
    "        return best"
   ]
  }
 ],
 "metadata": {
  "kernelspec": {
   "display_name": "Python 3 (ipykernel)",
   "language": "python",
   "name": "python3"
  },
  "language_info": {
   "codemirror_mode": {
    "name": "ipython",
    "version": 3
   },
   "file_extension": ".py",
   "mimetype": "text/x-python",
   "name": "python",
   "nbconvert_exporter": "python",
   "pygments_lexer": "ipython3",
   "version": "3.12.8"
  }
 },
 "nbformat": 4,
 "nbformat_minor": 5
}
