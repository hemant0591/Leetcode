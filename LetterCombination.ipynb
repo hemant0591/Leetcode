{
 "cells": [
  {
   "cell_type": "markdown",
   "id": "a0878f5f-cbb6-4cf4-b87d-b7681392e1f9",
   "metadata": {},
   "source": [
    "### 17. Letter Combinations of a Phone Number"
   ]
  },
  {
   "cell_type": "markdown",
   "id": "159ce934-fd7d-44ad-994e-51a76a49a1ef",
   "metadata": {},
   "source": [
    "Given a string containing digits from 2-9 inclusive, return all possible letter combinations that the number could represent. Return the answer in any order.\n",
    "\n",
    "A mapping of digits to letters (just like on the telephone buttons) is given below. Note that 1 does not map to any letters.\n",
    "\n",
    "\n",
    " \n",
    "\n",
    "Example 1:\n",
    "\n",
    "Input: digits = \"23\"\n",
    "Output: [\"ad\",\"ae\",\"af\",\"bd\",\"be\",\"bf\",\"cd\",\"ce\",\"cf\"]\n",
    "Example 2:\n",
    "\n",
    "Input: digits = \"\"\n",
    "Output: []"
   ]
  },
  {
   "cell_type": "code",
   "execution_count": null,
   "id": "6724a4c8-ab7d-4300-8822-2cc725af47b5",
   "metadata": {},
   "outputs": [],
   "source": [
    "class Solution:\n",
    "    def letterCombinations(self, digits: str) -> List[str]:\n",
    "        res = []\n",
    "        digitTochar = {\"2\": \"abc\",\n",
    "                       \"3\": \"def\",\n",
    "                       \"4\": \"ghi\",\n",
    "                       \"5\": \"jkl\",\n",
    "                       \"6\": \"mno\",\n",
    "                       \"7\": \"pqrs\",\n",
    "                       \"8\": \"tuv\",\n",
    "                       \"9\": \"wxyz\"}\n",
    "\n",
    "        def dfs(i, curStr):\n",
    "            if len(curStr) == len(digits):\n",
    "                res.append(curStr)\n",
    "                return\n",
    "\n",
    "            for c in digitTochar[digits[i]]:\n",
    "                dfs(i + 1, curStr + c)\n",
    "\n",
    "        if digits: dfs(0, \"\")\n",
    "\n",
    "        return res"
   ]
  }
 ],
 "metadata": {
  "kernelspec": {
   "display_name": "Python 3 (ipykernel)",
   "language": "python",
   "name": "python3"
  },
  "language_info": {
   "codemirror_mode": {
    "name": "ipython",
    "version": 3
   },
   "file_extension": ".py",
   "mimetype": "text/x-python",
   "name": "python",
   "nbconvert_exporter": "python",
   "pygments_lexer": "ipython3",
   "version": "3.12.8"
  }
 },
 "nbformat": 4,
 "nbformat_minor": 5
}
