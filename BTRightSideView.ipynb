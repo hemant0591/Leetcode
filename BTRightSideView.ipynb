{
 "cells": [
  {
   "cell_type": "markdown",
   "id": "ecaaf694-607b-4f2c-9d5e-50bea993bb8c",
   "metadata": {},
   "source": [
    "### 199. Binary Tree Right Side View"
   ]
  },
  {
   "cell_type": "markdown",
   "id": "fb57f561-359e-4f4f-bf2a-8644c9773acc",
   "metadata": {},
   "source": [
    "Given the root of a binary tree, imagine yourself standing on the right side of it, return the values of the nodes you can see ordered from top to bottom.\n",
    "\n",
    " \n",
    "\n",
    "Example 1:\n",
    "\n",
    "Input: root = [1,2,3,null,5,null,4]\n",
    "\n",
    "Output: [1,3,4]\n",
    "\n",
    "Explanation:\n",
    "\n",
    "\n",
    "\n",
    "Example 2:\n",
    "\n",
    "Input: root = [1,2,3,4,null,null,null,5]\n",
    "\n",
    "Output: [1,3,4,5]\n",
    "\n",
    "Explanation:\n",
    "\n",
    "\n",
    "\n",
    "Example 3:\n",
    "\n",
    "Input: root = [1,null,3]\n",
    "\n",
    "Output: [1,3]"
   ]
  },
  {
   "cell_type": "code",
   "execution_count": null,
   "id": "7c6b26af-b257-4e70-9281-4d48c4838496",
   "metadata": {},
   "outputs": [],
   "source": [
    "# Definition for a binary tree node.\n",
    "# class TreeNode:\n",
    "#     def __init__(self, val=0, left=None, right=None):\n",
    "#         self.val = val\n",
    "#         self.left = left\n",
    "#         self.right = right\n",
    "class Solution:\n",
    "    def rightSideView(self, root: Optional[TreeNode]) -> List[int]:\n",
    "        res = []\n",
    "        q = deque([root])\n",
    "\n",
    "        while q:\n",
    "            right = None\n",
    "            qLen = len(q)\n",
    "\n",
    "            for _ in range(qLen):\n",
    "                node = q.popleft()\n",
    "                if node:\n",
    "                    right = node\n",
    "                    q.append(node.left)\n",
    "                    q.append(node.right)\n",
    "            \n",
    "            if right: res.append(right.val)\n",
    "\n",
    "        return res"
   ]
  }
 ],
 "metadata": {
  "kernelspec": {
   "display_name": "Python 3 (ipykernel)",
   "language": "python",
   "name": "python3"
  },
  "language_info": {
   "codemirror_mode": {
    "name": "ipython",
    "version": 3
   },
   "file_extension": ".py",
   "mimetype": "text/x-python",
   "name": "python",
   "nbconvert_exporter": "python",
   "pygments_lexer": "ipython3",
   "version": "3.12.8"
  }
 },
 "nbformat": 4,
 "nbformat_minor": 5
}
