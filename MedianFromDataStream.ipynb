{
 "cells": [
  {
   "cell_type": "markdown",
   "id": "5bb24899-10b9-4ad8-afdc-416a1e66d6c2",
   "metadata": {},
   "source": [
    "### 295. Find Median from Data Stream"
   ]
  },
  {
   "cell_type": "markdown",
   "id": "ac8ec993-afc7-4142-9075-59daa0dce700",
   "metadata": {},
   "source": [
    "The median is the middle value in an ordered integer list. If the size of the list is even, there is no middle value, and the median is the mean of the two middle values.\n",
    "\n",
    "For example, for arr = [2,3,4], the median is 3.\n",
    "For example, for arr = [2,3], the median is (2 + 3) / 2 = 2.5.\n",
    "Implement the MedianFinder class:\n",
    "\n",
    "MedianFinder() initializes the MedianFinder object.\n",
    "void addNum(int num) adds the integer num from the data stream to the data structure.\n",
    "double findMedian() returns the median of all elements so far. Answers within 10-5 of the actual answer will be accepted.\n",
    " \n",
    "\n",
    "Example 1:\n",
    "\n",
    "Input\n",
    "[\"MedianFinder\", \"addNum\", \"addNum\", \"findMedian\", \"addNum\", \"findMedian\"]\n",
    "[[], [1], [2], [], [3], []]\n",
    "Output\n",
    "[null, null, null, 1.5, null, 2.0]\n",
    "\n",
    "Explanation\n",
    "MedianFinder medianFinder = new MedianFinder();\n",
    "medianFinder.addNum(1);    // arr = [1]\n",
    "medianFinder.addNum(2);    // arr = [1, 2]\n",
    "medianFinder.findMedian(); // return 1.5 (i.e., (1 + 2) / 2)\n",
    "medianFinder.addNum(3);    // arr[1, 2, 3]\n",
    "medianFinder.findMedian(); // return 2.0"
   ]
  },
  {
   "cell_type": "code",
   "execution_count": null,
   "id": "afd86283-bb16-4d71-b014-1231cc0cdb6d",
   "metadata": {},
   "outputs": [],
   "source": [
    "class MedianFinder:\n",
    "\n",
    "    def __init__(self):\n",
    "        # two heaps small and large\n",
    "        # small is maxHeap, large is minHeap\n",
    "        self.small, self.large = [], []\n",
    "        \n",
    "\n",
    "    def addNum(self, num: int) -> None:\n",
    "        heapq.heappush(self.small, -num)\n",
    "\n",
    "        # check if value from small need to be moved to large\n",
    "        if (self.small and self.large and -self.small[0] > self.large[0]):\n",
    "            val = -heapq.heappop(self.small)\n",
    "            heapq.heappush(self.large, val)\n",
    "\n",
    "        # check the lengths\n",
    "        if len(self.small) > len(self.large) + 1:\n",
    "            val = -heapq.heappop(self.small)\n",
    "            heapq.heappush(self.large, val)\n",
    "        elif len(self.small) + 1 < len(self.large):\n",
    "            val = -heapq.heappop(self.large)\n",
    "            heapq.heappush(self.small, val)\n",
    "        \n",
    "    def findMedian(self) -> float:\n",
    "        if len(self.small) > len(self.large):\n",
    "            return -self.small[0]\n",
    "        elif len(self.large) > len(self.small):\n",
    "            return self.large[0]\n",
    "        else:\n",
    "            return (-self.small[0] + self.large[0]) / 2\n",
    "\n",
    "\n",
    "# Your MedianFinder object will be instantiated and called as such:\n",
    "# obj = MedianFinder()\n",
    "# obj.addNum(num)\n",
    "# param_2 = obj.findMedian()"
   ]
  }
 ],
 "metadata": {
  "kernelspec": {
   "display_name": "Python 3 (ipykernel)",
   "language": "python",
   "name": "python3"
  },
  "language_info": {
   "codemirror_mode": {
    "name": "ipython",
    "version": 3
   },
   "file_extension": ".py",
   "mimetype": "text/x-python",
   "name": "python",
   "nbconvert_exporter": "python",
   "pygments_lexer": "ipython3",
   "version": "3.12.8"
  }
 },
 "nbformat": 4,
 "nbformat_minor": 5
}
