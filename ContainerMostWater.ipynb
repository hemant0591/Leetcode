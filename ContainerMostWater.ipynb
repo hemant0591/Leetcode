{
 "cells": [
  {
   "cell_type": "markdown",
   "id": "650d9223-25fe-46fe-bf7f-71f57748aad4",
   "metadata": {},
   "source": [
    "### Container With Most Water"
   ]
  },
  {
   "cell_type": "markdown",
   "id": "ca555bdf-adb6-49ef-a82d-3d6c067c42da",
   "metadata": {},
   "source": [
    "You are given an integer array height of length n. There are n vertical lines drawn such that the two endpoints of the ith line are (i, 0) and (i, height[i]).\n",
    "\n",
    "Find two lines that together with the x-axis form a container, such that the container contains the most water.\n",
    "\n",
    "Return the maximum amount of water a container can store.\n",
    "\n",
    "Notice that you may not slant the container."
   ]
  },
  {
   "cell_type": "code",
   "execution_count": null,
   "id": "02888e55-20e0-4ffa-a1ef-d7221c4dfd52",
   "metadata": {},
   "outputs": [],
   "source": [
    "class Solution:\n",
    "    def maxArea(self, height: List[int]) -> int:\n",
    "        maxW = 0\n",
    "        l, r = 0, len(height) - 1\n",
    "\n",
    "        while l < r:\n",
    "            area = (r - l) * min(height[l], height[r])\n",
    "            if height[l] < height[r]:\n",
    "                l += 1\n",
    "            else:\n",
    "                r -= 1\n",
    "            maxW = max(maxW, area)\n",
    "\n",
    "        return maxW"
   ]
  }
 ],
 "metadata": {
  "kernelspec": {
   "display_name": "Python 3 (ipykernel)",
   "language": "python",
   "name": "python3"
  },
  "language_info": {
   "codemirror_mode": {
    "name": "ipython",
    "version": 3
   },
   "file_extension": ".py",
   "mimetype": "text/x-python",
   "name": "python",
   "nbconvert_exporter": "python",
   "pygments_lexer": "ipython3",
   "version": "3.9.13"
  }
 },
 "nbformat": 4,
 "nbformat_minor": 5
}
