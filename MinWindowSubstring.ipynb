{
 "cells": [
  {
   "cell_type": "markdown",
   "id": "8d137084-6547-49f1-8634-aafa52a2ed81",
   "metadata": {},
   "source": [
    "### Minimum Window Substring"
   ]
  },
  {
   "cell_type": "markdown",
   "id": "e96898a9-13e1-41b7-a9e8-8ca0bb1a8d73",
   "metadata": {},
   "source": [
    "Given two strings s and t of lengths m and n respectively, return the minimum window substring of s such that every character in t (including duplicates) is included in the window. If there is no such substring, return the empty string \"\".\n",
    "\n",
    "The testcases will be generated such that the answer is unique.\n",
    "\n",
    " \n",
    "\n",
    "Example 1:\n",
    "\n",
    "Input: s = \"ADOBECODEBANC\", t = \"ABC\"\n",
    "Output: \"BANC\"\n",
    "Explanation: The minimum window substring \"BANC\" includes 'A', 'B', and 'C' from string t.\n",
    "Example 2:\n",
    "\n",
    "Input: s = \"a\", t = \"a\"\n",
    "Output: \"a\"\n",
    "Explanation: The entire string s is the minimum window.\n",
    "Example 3:\n",
    "\n",
    "Input: s = \"a\", t = \"aa\"\n",
    "Output: \"\"\n",
    "Explanation: Both 'a's from t must be included in the window.\n",
    "Since the largest window of s only has one 'a', return empty string."
   ]
  },
  {
   "cell_type": "code",
   "execution_count": null,
   "id": "2c8dd72c-2a89-4f96-a7bf-aadd92ee7764",
   "metadata": {},
   "outputs": [],
   "source": [
    "class Solution:\n",
    "    def minWindow(self, s: str, t: str) -> str:\n",
    "        if len(t) > len(s): return \"\"\n",
    "\n",
    "        sCount, tCount = {}, {}\n",
    "\n",
    "        for c in t:\n",
    "            tCount[c] = 1 + tCount.get(c, 0)\n",
    "\n",
    "        have, need = 0, len(tCount)\n",
    "\n",
    "        l= 0\n",
    "        resLen = float(\"inf\")\n",
    "        res = [0,0]\n",
    "\n",
    "        for r in range(len(s)):\n",
    "            sCount[s[r]] = 1 + sCount.get(s[r], 0)\n",
    "            \n",
    "            if s[r] in tCount and tCount[s[r]] == sCount[s[r]]:\n",
    "                have += 1\n",
    "            \n",
    "            while have == need:\n",
    "                if (r - l + 1) < resLen:\n",
    "                    res = [l, r]\n",
    "                    resLen = (r - l + 1)\n",
    "                \n",
    "                sCount[s[l]] -= 1\n",
    "\n",
    "                if s[l] in tCount and tCount[s[l]] > sCount[s[l]]:\n",
    "                    have -= 1\n",
    "                \n",
    "                l += 1\n",
    "\n",
    "        l, r = res\n",
    "        return s[l:r+1] if resLen != float(\"inf\") else \"\""
   ]
  }
 ],
 "metadata": {
  "kernelspec": {
   "display_name": "Python 3 (ipykernel)",
   "language": "python",
   "name": "python3"
  },
  "language_info": {
   "codemirror_mode": {
    "name": "ipython",
    "version": 3
   },
   "file_extension": ".py",
   "mimetype": "text/x-python",
   "name": "python",
   "nbconvert_exporter": "python",
   "pygments_lexer": "ipython3",
   "version": "3.12.8"
  }
 },
 "nbformat": 4,
 "nbformat_minor": 5
}
