{
 "cells": [
  {
   "cell_type": "markdown",
   "id": "44c3cb36-416a-41ba-8de4-4dc607489da9",
   "metadata": {},
   "source": [
    "### Search a 2D Matrix"
   ]
  },
  {
   "cell_type": "markdown",
   "id": "0de09393-abac-4bf8-ab55-4f0a0585c90d",
   "metadata": {},
   "source": [
    "You are given an m x n integer matrix matrix with the following two properties:\n",
    "\n",
    "Each row is sorted in non-decreasing order.\n",
    "The first integer of each row is greater than the last integer of the previous row.\n",
    "Given an integer target, return true if target is in matrix or false otherwise.\n",
    "\n",
    "You must write a solution in O(log(m * n)) time complexity."
   ]
  },
  {
   "cell_type": "code",
   "execution_count": null,
   "id": "7102f842-bd77-4ef4-a979-baf368a5f4b5",
   "metadata": {},
   "outputs": [],
   "source": [
    "class Solution:\n",
    "    def searchMatrix(self, matrix: List[List[int]], target: int) -> bool:\n",
    "        m, n = len(matrix), len(matrix[0])\n",
    "        l = 0\n",
    "        r = m * n - 1\n",
    "\n",
    "        while l <= r:\n",
    "            mid = (l + r) // 2\n",
    "            row = mid // n\n",
    "            col = mid % n\n",
    "            val = matrix[row][col]\n",
    "\n",
    "            if val == target:\n",
    "                return True\n",
    "            elif val < target:\n",
    "                l = mid + 1\n",
    "            elif val > target:\n",
    "                r = mid - 1\n",
    "        \n",
    "        return False"
   ]
  }
 ],
 "metadata": {
  "kernelspec": {
   "display_name": "Python 3 (ipykernel)",
   "language": "python",
   "name": "python3"
  },
  "language_info": {
   "codemirror_mode": {
    "name": "ipython",
    "version": 3
   },
   "file_extension": ".py",
   "mimetype": "text/x-python",
   "name": "python",
   "nbconvert_exporter": "python",
   "pygments_lexer": "ipython3",
   "version": "3.9.13"
  }
 },
 "nbformat": 4,
 "nbformat_minor": 5
}
