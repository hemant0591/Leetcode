{
 "cells": [
  {
   "cell_type": "code",
   "execution_count": 2,
   "id": "779e7e3f-2fc8-48bf-bf4f-21d75598f302",
   "metadata": {},
   "outputs": [],
   "source": [
    "import math\n",
    "\n",
    "class Solution:\n",
    "    def minEatingSpeed(self, piles, h):\n",
    "        l, r = 1, max(piles)\n",
    "\n",
    "        while l < r:\n",
    "            k = (l + r) // 2\n",
    "            t = sum(math.ceil(pile / k) for pile in piles)\n",
    "\n",
    "            if t <= h:\n",
    "                r = k\n",
    "            else:\n",
    "                l = k + 1\n",
    "\n",
    "        return l"
   ]
  },
  {
   "cell_type": "code",
   "execution_count": null,
   "id": "c339124b-afce-4988-9d77-cca03092da7c",
   "metadata": {},
   "outputs": [],
   "source": []
  }
 ],
 "metadata": {
  "kernelspec": {
   "display_name": "Python 3 (ipykernel)",
   "language": "python",
   "name": "python3"
  },
  "language_info": {
   "codemirror_mode": {
    "name": "ipython",
    "version": 3
   },
   "file_extension": ".py",
   "mimetype": "text/x-python",
   "name": "python",
   "nbconvert_exporter": "python",
   "pygments_lexer": "ipython3",
   "version": "3.9.13"
  }
 },
 "nbformat": 4,
 "nbformat_minor": 5
}
