{
 "cells": [
  {
   "cell_type": "markdown",
   "id": "aacaa68b-f394-4832-b822-61205b69b432",
   "metadata": {},
   "source": [
    "### 207. Course Schedule"
   ]
  },
  {
   "cell_type": "markdown",
   "id": "8981b506-1358-4596-b5be-3eb4c5f30c2f",
   "metadata": {},
   "source": [
    "There are a total of numCourses courses you have to take, labeled from 0 to numCourses - 1. You are given an array prerequisites where prerequisites[i] = [ai, bi] indicates that you must take course bi first if you want to take course ai.\n",
    "\n",
    "For example, the pair [0, 1], indicates that to take course 0 you have to first take course 1.\n",
    "Return true if you can finish all courses. Otherwise, return false.\n",
    "\n",
    " \n",
    "\n",
    "Example 1:\n",
    "\n",
    "Input: numCourses = 2, prerequisites = [[1,0]]\n",
    "Output: true\n",
    "Explanation: There are a total of 2 courses to take. \n",
    "To take course 1 you should have finished course 0. So it is possible.\n",
    "Example 2:\n",
    "\n",
    "Input: numCourses = 2, prerequisites = [[1,0],[0,1]]\n",
    "Output: false\n",
    "Explanation: There are a total of 2 courses to take. \n",
    "To take course 1 you should have finished course 0, and to take course 0 you should also have finished course 1. So it is impossible."
   ]
  },
  {
   "cell_type": "code",
   "execution_count": null,
   "id": "2fbb8264-e67f-41ae-8054-322045279103",
   "metadata": {},
   "outputs": [],
   "source": [
    "class Solution:\n",
    "    def canFinish(self, numCourses: int, prerequisites: List[List[int]]) -> bool:\n",
    "        preMap = {i : [] for i in range(numCourses)}\n",
    "\n",
    "        for crs, pre in prerequisites:\n",
    "            preMap[crs].append(pre)\n",
    "\n",
    "        visits = set()\n",
    "\n",
    "        def dfs(crs):\n",
    "            if crs in visits: return False\n",
    "            if preMap[crs] == []: return True\n",
    "\n",
    "            visits.add(crs)\n",
    "\n",
    "            for pre in preMap[crs]:\n",
    "                if not dfs(pre): return False\n",
    "\n",
    "            visits.remove(crs)\n",
    "            preMap[crs] = []\n",
    "            \n",
    "            return True\n",
    "\n",
    "        for crs in range(numCourses):\n",
    "            if not dfs(crs): return False\n",
    "\n",
    "        return True"
   ]
  }
 ],
 "metadata": {
  "kernelspec": {
   "display_name": "Python 3 (ipykernel)",
   "language": "python",
   "name": "python3"
  },
  "language_info": {
   "codemirror_mode": {
    "name": "ipython",
    "version": 3
   },
   "file_extension": ".py",
   "mimetype": "text/x-python",
   "name": "python",
   "nbconvert_exporter": "python",
   "pygments_lexer": "ipython3",
   "version": "3.12.8"
  }
 },
 "nbformat": 4,
 "nbformat_minor": 5
}
