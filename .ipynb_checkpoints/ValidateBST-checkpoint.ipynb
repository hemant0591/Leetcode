{
 "cells": [
  {
   "cell_type": "markdown",
   "id": "801a4f7f-3d34-4302-a2a5-6717a2134b45",
   "metadata": {},
   "source": [
    "### 98. Validate Binary Search Tree"
   ]
  },
  {
   "cell_type": "markdown",
   "id": "f377db90-589a-41d6-9be9-6bce8ee78161",
   "metadata": {},
   "source": [
    "Given the root of a binary tree, determine if it is a valid binary search tree (BST).\n",
    "\n",
    "A valid BST is defined as follows:\n",
    "\n",
    "The left subtree of a node contains only nodes with keys strictly less than the node's key.\n",
    "The right subtree of a node contains only nodes with keys strictly greater than the node's key.\n",
    "Both the left and right subtrees must also be binary search trees.\n",
    " \n",
    "\n",
    "Example 1:\n",
    "\n",
    "\n",
    "Input: root = [2,1,3]\n",
    "Output: true\n",
    "Example 2:\n",
    "\n",
    "\n",
    "Input: root = [5,1,4,null,null,3,6]\n",
    "Output: false\n",
    "Explanation: The root node's value is 5 but its right child's value is 4."
   ]
  },
  {
   "cell_type": "code",
   "execution_count": null,
   "id": "1988d6c5-9f28-4b80-ba04-8863e462453c",
   "metadata": {},
   "outputs": [],
   "source": [
    "# Definition for a binary tree node.\n",
    "# class TreeNode:\n",
    "#     def __init__(self, val=0, left=None, right=None):\n",
    "#         self.val = val\n",
    "#         self.left = left\n",
    "#         self.right = right\n",
    "class Solution:\n",
    "    def isValidBST(self, root: Optional[TreeNode]) -> bool:\n",
    "\n",
    "        def dfs(node, leftVal, rightVal):\n",
    "            if not node: return True\n",
    "            if node.val >= rightVal or node.val <= leftVal: return False\n",
    "            return (dfs(node.left, leftVal, node.val) and \n",
    "                    dfs(node.right, node.val, rightVal))\n",
    "\n",
    "        return dfs(root, float(\"-inf\"), float(\"inf\"))"
   ]
  }
 ],
 "metadata": {
  "kernelspec": {
   "display_name": "Python 3 (ipykernel)",
   "language": "python",
   "name": "python3"
  },
  "language_info": {
   "codemirror_mode": {
    "name": "ipython",
    "version": 3
   },
   "file_extension": ".py",
   "mimetype": "text/x-python",
   "name": "python",
   "nbconvert_exporter": "python",
   "pygments_lexer": "ipython3",
   "version": "3.12.8"
  }
 },
 "nbformat": 4,
 "nbformat_minor": 5
}
