{
 "cells": [
  {
   "cell_type": "markdown",
   "id": "d727f05f-2678-45a7-905f-b84906c103f2",
   "metadata": {},
   "source": [
    "### 79. Word Search"
   ]
  },
  {
   "cell_type": "markdown",
   "id": "f979306c-3497-4f18-92bb-a45742852138",
   "metadata": {},
   "source": [
    "Given an m x n grid of characters board and a string word, return true if word exists in the grid.\n",
    "\n",
    "The word can be constructed from letters of sequentially adjacent cells, where adjacent cells are horizontally or vertically neighboring. The same letter cell may not be used more than once.\n",
    "\n",
    " \n",
    "\n",
    "Example 1:\n",
    "\n",
    "\n",
    "Input: board = [[\"A\",\"B\",\"C\",\"E\"],[\"S\",\"F\",\"C\",\"S\"],[\"A\",\"D\",\"E\",\"E\"]], word = \"ABCCED\"\n",
    "Output: true\n",
    "Example 2:\n",
    "\n",
    "\n",
    "Input: board = [[\"A\",\"B\",\"C\",\"E\"],[\"S\",\"F\",\"C\",\"S\"],[\"A\",\"D\",\"E\",\"E\"]], word = \"SEE\"\n",
    "Output: true\n",
    "Example 3:\n",
    "\n",
    "\n",
    "Input: board = [[\"A\",\"B\",\"C\",\"E\"],[\"S\",\"F\",\"C\",\"S\"],[\"A\",\"D\",\"E\",\"E\"]], word = \"ABCB\"\n",
    "Output: false"
   ]
  },
  {
   "cell_type": "code",
   "execution_count": null,
   "id": "d036856e-1485-461d-88af-4adff39e06eb",
   "metadata": {},
   "outputs": [],
   "source": [
    "class Solution:\n",
    "    def exist(self, board: List[List[str]], word: str) -> bool:\n",
    "        rows, cols = len(board), len(board[0])\n",
    "        path = set() # contains tuple of (r,c)\n",
    "\n",
    "        def dfs(r, c, i):\n",
    "            if i == len(word): return True\n",
    "\n",
    "            if (r < 0 or c < 0 or\n",
    "                r >= rows or c >= cols or\n",
    "                word[i] != board[r][c] or\n",
    "                (r, c) in path):\n",
    "                return False\n",
    "\n",
    "            path.add((r, c))\n",
    "\n",
    "            res = (dfs(r + 1, c, i + 1) or\n",
    "                   dfs(r - 1, c, i + 1) or\n",
    "                   dfs(r, c + 1, i + 1) or\n",
    "                   dfs(r, c - 1, i + 1))\n",
    "\n",
    "            path.remove((r, c))\n",
    "\n",
    "            return res\n",
    "\n",
    "        for r in range(rows):\n",
    "            for c in range(cols):\n",
    "                if dfs(r, c, 0): return True\n",
    "\n",
    "        return False"
   ]
  },
  {
   "cell_type": "markdown",
   "id": "9d2ca325-bce0-4437-b8dc-c9e5183bf665",
   "metadata": {},
   "source": [
    "Time complexity: O(n * m * 4^(w)), where w is the length of the word"
   ]
  }
 ],
 "metadata": {
  "kernelspec": {
   "display_name": "Python 3 (ipykernel)",
   "language": "python",
   "name": "python3"
  },
  "language_info": {
   "codemirror_mode": {
    "name": "ipython",
    "version": 3
   },
   "file_extension": ".py",
   "mimetype": "text/x-python",
   "name": "python",
   "nbconvert_exporter": "python",
   "pygments_lexer": "ipython3",
   "version": "3.12.8"
  }
 },
 "nbformat": 4,
 "nbformat_minor": 5
}
