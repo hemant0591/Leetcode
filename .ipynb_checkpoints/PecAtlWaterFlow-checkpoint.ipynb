{
 "cells": [
  {
   "cell_type": "markdown",
   "id": "afa5b740-fdc9-4159-b099-00d72520a514",
   "metadata": {},
   "source": [
    "### 417. Pacific Atlantic Water Flow"
   ]
  },
  {
   "cell_type": "markdown",
   "id": "a5ef9e37-e64a-4907-b394-3dd4b2440708",
   "metadata": {},
   "source": [
    "There is an m x n rectangular island that borders both the Pacific Ocean and Atlantic Ocean. The Pacific Ocean touches the island's left and top edges, and the Atlantic Ocean touches the island's right and bottom edges.\n",
    "\n",
    "The island is partitioned into a grid of square cells. You are given an m x n integer matrix heights where heights[r][c] represents the height above sea level of the cell at coordinate (r, c).\n",
    "\n",
    "The island receives a lot of rain, and the rain water can flow to neighboring cells directly north, south, east, and west if the neighboring cell's height is less than or equal to the current cell's height. Water can flow from any cell adjacent to an ocean into the ocean.\n",
    "\n",
    "Return a 2D list of grid coordinates result where result[i] = [ri, ci] denotes that rain water can flow from cell (ri, ci) to both the Pacific and Atlantic oceans.\n",
    "\n",
    " \n",
    "\n",
    "Example 1:\n",
    "\n",
    "\n",
    "Input: heights = [[1,2,2,3,5],[3,2,3,4,4],[2,4,5,3,1],[6,7,1,4,5],[5,1,1,2,4]]\n",
    "Output: [[0,4],[1,3],[1,4],[2,2],[3,0],[3,1],[4,0]]\n",
    "Explanation: The following cells can flow to the Pacific and Atlantic oceans, as shown below:\n",
    "[0,4]: [0,4] -> Pacific Ocean \n",
    "       [0,4] -> Atlantic Ocean\n",
    "[1,3]: [1,3] -> [0,3] -> Pacific Ocean \n",
    "       [1,3] -> [1,4] -> Atlantic Ocean\n",
    "[1,4]: [1,4] -> [1,3] -> [0,3] -> Pacific Ocean \n",
    "       [1,4] -> Atlantic Ocean\n",
    "[2,2]: [2,2] -> [1,2] -> [0,2] -> Pacific Ocean \n",
    "       [2,2] -> [2,3] -> [2,4] -> Atlantic Ocean\n",
    "[3,0]: [3,0] -> Pacific Ocean \n",
    "       [3,0] -> [4,0] -> Atlantic Ocean\n",
    "[3,1]: [3,1] -> [3,0] -> Pacific Ocean \n",
    "       [3,1] -> [4,1] -> Atlantic Ocean\n",
    "[4,0]: [4,0] -> Pacific Ocean \n",
    "       [4,0] -> Atlantic Ocean\n",
    "Note that there are other possible paths for these cells to flow to the Pacific and Atlantic oceans.\n",
    "Example 2:\n",
    "\n",
    "Input: heights = [[1]]\n",
    "Output: [[0,0]]\n",
    "Explanation: The water can flow from the only cell to the Pacific and Atlantic oceans."
   ]
  },
  {
   "cell_type": "code",
   "execution_count": null,
   "id": "61f73f86-29b1-4138-a7d9-e1916c2651bc",
   "metadata": {},
   "outputs": [],
   "source": [
    "class Solution:\n",
    "    def pacificAtlantic(self, heights: List[List[int]]) -> List[List[int]]:\n",
    "        rows, cols = len(heights), len(heights[0])\n",
    "        pec, atl = set(), set()\n",
    "\n",
    "        def dfs(r, c, visit, prevHeight):\n",
    "            if (r < 0 or c < 0 or\n",
    "                r == rows or c == cols or\n",
    "                (r, c) in visit or\n",
    "                heights[r][c] < prevHeight):\n",
    "                return\n",
    "\n",
    "            visit.add((r,c))\n",
    "\n",
    "            dfs(r + 1, c, visit, heights[r][c])\n",
    "            dfs(r - 1, c, visit, heights[r][c])\n",
    "            dfs(r, c + 1, visit, heights[r][c])\n",
    "            dfs(r, c - 1, visit, heights[r][c])\n",
    "\n",
    "        for c in range(cols):\n",
    "            dfs(0, c, pec, heights[0][c])\n",
    "            dfs(rows - 1, c, atl, heights[rows - 1][c])\n",
    "\n",
    "        for r in range(rows):\n",
    "            dfs(r, 0, pec, heights[r][0])\n",
    "            dfs(r, cols - 1, atl, heights[r][cols - 1])\n",
    "\n",
    "        res = []\n",
    "\n",
    "        for r in range(rows):\n",
    "            for c in range(cols):\n",
    "                if (r, c) in pec and (r, c) in atl:\n",
    "                    res.append([r,c])\n",
    "\n",
    "        return res"
   ]
  }
 ],
 "metadata": {
  "kernelspec": {
   "display_name": "Python 3 (ipykernel)",
   "language": "python",
   "name": "python3"
  },
  "language_info": {
   "codemirror_mode": {
    "name": "ipython",
    "version": 3
   },
   "file_extension": ".py",
   "mimetype": "text/x-python",
   "name": "python",
   "nbconvert_exporter": "python",
   "pygments_lexer": "ipython3",
   "version": "3.12.8"
  }
 },
 "nbformat": 4,
 "nbformat_minor": 5
}
