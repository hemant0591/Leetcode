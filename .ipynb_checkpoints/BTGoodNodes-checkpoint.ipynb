{
 "cells": [
  {
   "cell_type": "markdown",
   "id": "49485e80-406e-434f-86e3-22dbb4b39a68",
   "metadata": {},
   "source": [
    "### 1448. Count Good Nodes in Binary Tree"
   ]
  },
  {
   "cell_type": "markdown",
   "id": "227a7b05-0bb9-42e1-98cb-67627e3abb0e",
   "metadata": {},
   "source": [
    "Given a binary tree root, a node X in the tree is named good if in the path from root to X there are no nodes with a value greater than X.\n",
    "\n",
    "Return the number of good nodes in the binary tree.\n",
    "\n",
    " \n",
    "\n",
    "Example 1:\n",
    "\n",
    "\n",
    "\n",
    "Input: root = [3,1,4,3,null,1,5]\n",
    "Output: 4\n",
    "Explanation: Nodes in blue are good.\n",
    "Root Node (3) is always a good node.\n",
    "Node 4 -> (3,4) is the maximum value in the path starting from the root.\n",
    "Node 5 -> (3,4,5) is the maximum value in the path\n",
    "Node 3 -> (3,1,3) is the maximum value in the path.\n",
    "Example 2:\n",
    "\n",
    "\n",
    "\n",
    "Input: root = [3,3,null,4,2]\n",
    "Output: 3\n",
    "Explanation: Node 2 -> (3, 3, 2) is not good, because \"3\" is higher than it.\n",
    "Example 3:\n",
    "\n",
    "Input: root = [1]\n",
    "Output: 1\n",
    "Explanation: Root is considered as good.\n"
   ]
  },
  {
   "cell_type": "code",
   "execution_count": null,
   "id": "6d1a62d4-94ac-4c8e-a68a-b6162e4f4dd6",
   "metadata": {},
   "outputs": [],
   "source": [
    "# Definition for a binary tree node.\n",
    "# class TreeNode:\n",
    "#     def __init__(self, val=0, left=None, right=None):\n",
    "#         self.val = val\n",
    "#         self.left = left\n",
    "#         self.right = right\n",
    "class Solution:\n",
    "    def goodNodes(self, root: TreeNode) -> int:\n",
    "\n",
    "        def dfs(node, maxVal):\n",
    "            if not node: return 0\n",
    "\n",
    "            res = 1 if node.val >= maxVal else 0\n",
    "            maxVal = max(maxVal, node.val)\n",
    "            res += dfs(node.left, maxVal)\n",
    "            res += dfs(node.right, maxVal)\n",
    "\n",
    "            return res\n",
    "\n",
    "        return dfs(root, root.val)"
   ]
  }
 ],
 "metadata": {
  "kernelspec": {
   "display_name": "Python 3 (ipykernel)",
   "language": "python",
   "name": "python3"
  },
  "language_info": {
   "codemirror_mode": {
    "name": "ipython",
    "version": 3
   },
   "file_extension": ".py",
   "mimetype": "text/x-python",
   "name": "python",
   "nbconvert_exporter": "python",
   "pygments_lexer": "ipython3",
   "version": "3.12.8"
  }
 },
 "nbformat": 4,
 "nbformat_minor": 5
}
