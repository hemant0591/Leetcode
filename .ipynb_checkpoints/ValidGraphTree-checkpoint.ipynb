{
 "cells": [
  {
   "cell_type": "markdown",
   "id": "3e301d1e-3c03-4562-aa44-7df65278d422",
   "metadata": {},
   "source": [
    "### 178 · Graph Valid Tree"
   ]
  },
  {
   "cell_type": "markdown",
   "id": "0483472d-0f01-43da-b33a-6bb6dadacdc5",
   "metadata": {},
   "source": [
    "Description\n",
    "Given n nodes labeled from 0 to n - 1 and a list of undirected edges (each edge is a pair of nodes), write a function to check whether these edges make up a valid tree.\n",
    "\n",
    "Example\n",
    "Example 1:\n",
    "\n",
    "Input: n = 5 edges = [[0, 1], [0, 2], [0, 3], [1, 4]]\n",
    "Output: true.\n",
    "Example 2:\n",
    "\n",
    "Input: n = 5 edges = [[0, 1], [1, 2], [2, 3], [1, 3], [1, 4]]\n",
    "Output: false."
   ]
  },
  {
   "cell_type": "code",
   "execution_count": null,
   "id": "ec819654-c2c6-417a-8900-49858c079e9b",
   "metadata": {},
   "outputs": [],
   "source": [
    "class Solution:\n",
    "    def validTree(self, n: int, edges: List[List[int]]) -> bool:\n",
    "        if len(edges) > (n - 1):\n",
    "            return False\n",
    "\n",
    "        adj = [[] for _ in range(n)]\n",
    "        for u, v in edges:\n",
    "            adj[u].append(v)\n",
    "            adj[v].append(u)\n",
    "\n",
    "        visit = set()\n",
    "        def dfs(node, par):\n",
    "            if node in visit:\n",
    "                return False\n",
    "\n",
    "            visit.add(node)\n",
    "            for nei in adj[node]:\n",
    "                if nei == par:\n",
    "                    continue\n",
    "                if not dfs(nei, node):\n",
    "                    return False\n",
    "            return True\n",
    "\n",
    "        return dfs(0, -1) and len(visit) == n"
   ]
  }
 ],
 "metadata": {
  "kernelspec": {
   "display_name": "Python 3 (ipykernel)",
   "language": "python",
   "name": "python3"
  },
  "language_info": {
   "codemirror_mode": {
    "name": "ipython",
    "version": 3
   },
   "file_extension": ".py",
   "mimetype": "text/x-python",
   "name": "python",
   "nbconvert_exporter": "python",
   "pygments_lexer": "ipython3",
   "version": "3.12.8"
  }
 },
 "nbformat": 4,
 "nbformat_minor": 5
}
