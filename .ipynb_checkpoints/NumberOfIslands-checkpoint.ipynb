{
 "cells": [
  {
   "cell_type": "markdown",
   "id": "0403518c-3f2b-4707-8940-a83803cd9b97",
   "metadata": {},
   "source": [
    "### 200. Number of Islands"
   ]
  },
  {
   "cell_type": "markdown",
   "id": "80e3d361-a35b-44bb-b5a0-6363e2aa70f8",
   "metadata": {},
   "source": [
    "Given an m x n 2D binary grid grid which represents a map of '1's (land) and '0's (water), return the number of islands.\n",
    "\n",
    "An island is surrounded by water and is formed by connecting adjacent lands horizontally or vertically. You may assume all four edges of the grid are all surrounded by water.\n",
    "\n",
    " \n",
    "\n",
    "Example 1:\n",
    "\n",
    "Input: grid = [\n",
    "  [\"1\",\"1\",\"1\",\"1\",\"0\"],\n",
    "  [\"1\",\"1\",\"0\",\"1\",\"0\"],\n",
    "  [\"1\",\"1\",\"0\",\"0\",\"0\"],\n",
    "  [\"0\",\"0\",\"0\",\"0\",\"0\"]\n",
    "]\n",
    "Output: 1\n",
    "Example 2:\n",
    "\n",
    "Input: grid = [\n",
    "  [\"1\",\"1\",\"0\",\"0\",\"0\"],\n",
    "  [\"1\",\"1\",\"0\",\"0\",\"0\"],\n",
    "  [\"0\",\"0\",\"1\",\"0\",\"0\"],\n",
    "  [\"0\",\"0\",\"0\",\"1\",\"1\"]\n",
    "]\n",
    "Output: 3"
   ]
  },
  {
   "cell_type": "markdown",
   "id": "a79f3fcb-fa2f-4e1d-a165-661e98ca3270",
   "metadata": {},
   "source": [
    "#### BFS solution"
   ]
  },
  {
   "cell_type": "code",
   "execution_count": null,
   "id": "afd1b4df-1d48-4589-86c9-e06fa0488fb9",
   "metadata": {},
   "outputs": [],
   "source": [
    "class Solution:\n",
    "    def numIslands(self, grid: List[List[str]]) -> int:\n",
    "        directions = [[1,0],[-1,0],[0,1],[0,-1]]\n",
    "        rows, cols = len(grid), len(grid[0])\n",
    "\n",
    "        islands = 0\n",
    "\n",
    "        def bfs(r, c):\n",
    "            q = deque()\n",
    "            grid[r][c] = \"0\"\n",
    "            q.append((r,c))\n",
    "\n",
    "            while q:\n",
    "                row, col = q.popleft()\n",
    "                for dr, dc in directions:\n",
    "                    nr, nc = row + dr, col + dc\n",
    "                    if (nr < 0 or nc < 0 or\n",
    "                        nr >= rows or nc >= cols or\n",
    "                        grid[nr][nc] == \"0\"):\n",
    "                        continue\n",
    "                    \n",
    "                    q.append((nr, nc))\n",
    "                    grid[nr][nc] = \"0\"\n",
    "\n",
    "        for r in range(rows):\n",
    "            for c in range(cols):\n",
    "                if grid[r][c] == \"1\":\n",
    "                    bfs(r, c)\n",
    "                    islands += 1\n",
    "\n",
    "        return islands"
   ]
  },
  {
   "cell_type": "markdown",
   "id": "dc74c1b9-8d5e-4488-a54b-d1c0fb1207ed",
   "metadata": {},
   "source": [
    "#### DFS solution"
   ]
  },
  {
   "cell_type": "code",
   "execution_count": null,
   "id": "4f18950a-0e2a-481b-9108-b6de15878832",
   "metadata": {},
   "outputs": [],
   "source": [
    "class Solution:\n",
    "    def numIslands(self, grid: List[List[str]]) -> int:\n",
    "        directions = [[1,0],[-1,0],[0,1],[0,-1]]\n",
    "        rows, cols = len(grid), len(grid[0])\n",
    "\n",
    "        islands = 0\n",
    "\n",
    "        def dfs(r, c):\n",
    "            if (r < 0 or c < 0 or\n",
    "                r >= rows or c >= cols or\n",
    "                grid[r][c] == \"0\"):\n",
    "                return\n",
    "\n",
    "            grid[r][c] = \"0\"\n",
    "\n",
    "            for dr, dc in directions:\n",
    "                dfs(r + dr, c + dc)\n",
    "\n",
    "        for r in range(rows):\n",
    "            for c in range(cols):\n",
    "                if grid[r][c] == \"1\":\n",
    "                    dfs(r, c)\n",
    "                    islands += 1\n",
    "\n",
    "        return islands"
   ]
  }
 ],
 "metadata": {
  "kernelspec": {
   "display_name": "Python 3 (ipykernel)",
   "language": "python",
   "name": "python3"
  },
  "language_info": {
   "codemirror_mode": {
    "name": "ipython",
    "version": 3
   },
   "file_extension": ".py",
   "mimetype": "text/x-python",
   "name": "python",
   "nbconvert_exporter": "python",
   "pygments_lexer": "ipython3",
   "version": "3.12.8"
  }
 },
 "nbformat": 4,
 "nbformat_minor": 5
}
