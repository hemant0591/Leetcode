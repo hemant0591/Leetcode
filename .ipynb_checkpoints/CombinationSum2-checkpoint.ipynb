{
 "cells": [
  {
   "cell_type": "markdown",
   "id": "1971663c-0242-40b0-8561-c945ebae94b3",
   "metadata": {},
   "source": [
    "### 40. Combination Sum II"
   ]
  },
  {
   "cell_type": "markdown",
   "id": "5eefdd99-8273-4d1f-a858-02d833f3e8f1",
   "metadata": {},
   "source": [
    "Given a collection of candidate numbers (candidates) and a target number (target), find all unique combinations in candidates where the candidate numbers sum to target.\n",
    "\n",
    "Each number in candidates may only be used once in the combination.\n",
    "\n",
    "Note: The solution set must not contain duplicate combinations.\n",
    "\n",
    " \n",
    "\n",
    "Example 1:\n",
    "\n",
    "Input: candidates = [10,1,2,7,6,1,5], target = 8\n",
    "Output: \n",
    "[\n",
    "[1,1,6],\n",
    "[1,2,5],\n",
    "[1,7],\n",
    "[2,6]\n",
    "]\n",
    "Example 2:\n",
    "\n",
    "Input: candidates = [2,5,2,1,2], target = 5\n",
    "Output: \n",
    "[\n",
    "[1,2,2],\n",
    "[5]\n",
    "]"
   ]
  },
  {
   "cell_type": "code",
   "execution_count": null,
   "id": "ba5a5c94-6297-447c-8c07-d7bcee6d5ab1",
   "metadata": {},
   "outputs": [],
   "source": [
    "class Solution:\n",
    "    def combinationSum2(self, candidates: List[int], target: int) -> List[List[int]]:\n",
    "        res = []\n",
    "        candidates.sort()\n",
    "\n",
    "        def dfs(i, cur, total):\n",
    "            if total == target:\n",
    "                res.append(cur.copy())\n",
    "                return\n",
    "\n",
    "            if total > target or i >= len(candidates):\n",
    "                return\n",
    "\n",
    "            # include candidates[i]\n",
    "            cur.append(candidates[i])\n",
    "            dfs(i + 1, cur, total + candidates[i])\n",
    "\n",
    "            # exclude candidates[i]\n",
    "            cur.pop()\n",
    "            \n",
    "            while (i + 1) < len(candidates) and candidates[i] == candidates[i + 1]:\n",
    "                i += 1\n",
    "            \n",
    "            dfs(i + 1, cur, total)\n",
    "\n",
    "        dfs(0, [], 0)\n",
    "\n",
    "        return res"
   ]
  }
 ],
 "metadata": {
  "kernelspec": {
   "display_name": "Python 3 (ipykernel)",
   "language": "python",
   "name": "python3"
  },
  "language_info": {
   "codemirror_mode": {
    "name": "ipython",
    "version": 3
   },
   "file_extension": ".py",
   "mimetype": "text/x-python",
   "name": "python",
   "nbconvert_exporter": "python",
   "pygments_lexer": "ipython3",
   "version": "3.12.8"
  }
 },
 "nbformat": 4,
 "nbformat_minor": 5
}
