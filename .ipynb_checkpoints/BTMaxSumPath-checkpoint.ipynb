{
 "cells": [
  {
   "cell_type": "markdown",
   "id": "1492bdc5-35b9-40bb-ad60-6302e3d84398",
   "metadata": {},
   "source": [
    "### 124. Binary Tree Maximum Path Sum"
   ]
  },
  {
   "cell_type": "markdown",
   "id": "d30c5937-d05e-4894-9c30-7f144deccf7a",
   "metadata": {},
   "source": [
    "A path in a binary tree is a sequence of nodes where each pair of adjacent nodes in the sequence has an edge connecting them. A node can only appear in the sequence at most once. Note that the path does not need to pass through the root.\n",
    "\n",
    "The path sum of a path is the sum of the node's values in the path.\n",
    "\n",
    "Given the root of a binary tree, return the maximum path sum of any non-empty path.\n",
    "\n",
    " \n",
    "\n",
    "Example 1:\n",
    "\n",
    "\n",
    "Input: root = [1,2,3]\n",
    "Output: 6\n",
    "Explanation: The optimal path is 2 -> 1 -> 3 with a path sum of 2 + 1 + 3 = 6.\n",
    "Example 2:\n",
    "\n",
    "\n",
    "Input: root = [-10,9,20,null,null,15,7]\n",
    "Output: 42\n",
    "Explanation: The optimal path is 15 -> 20 -> 7 with a path sum of 15 + 20 + 7 = 42."
   ]
  },
  {
   "cell_type": "code",
   "execution_count": null,
   "id": "f1fa0844-4ed2-42c8-82cb-1aa4f0b6aa2d",
   "metadata": {},
   "outputs": [],
   "source": [
    "# Definition for a binary tree node.\n",
    "# class TreeNode:\n",
    "#     def __init__(self, val=0, left=None, right=None):\n",
    "#         self.val = val\n",
    "#         self.left = left\n",
    "#         self.right = right\n",
    "class Solution:\n",
    "    def maxPathSum(self, root: Optional[TreeNode]) -> int:\n",
    "        self.res = root.val\n",
    "\n",
    "        def dfs(node):\n",
    "            if not node: return 0\n",
    "\n",
    "            leftMax = dfs(node.left)\n",
    "            rightMax = dfs(node.right)\n",
    "            leftMax = max(0, leftMax)\n",
    "            rightMax = max(0, rightMax)\n",
    "\n",
    "            # max value with splitting a node\n",
    "            self.res = max(self.res, node.val + leftMax + rightMax)\n",
    "\n",
    "            # return max value without splitting a node\n",
    "            return node.val + max(leftMax, rightMax)\n",
    "\n",
    "        dfs(root)\n",
    "        return self.res"
   ]
  }
 ],
 "metadata": {
  "kernelspec": {
   "display_name": "Python 3 (ipykernel)",
   "language": "python",
   "name": "python3"
  },
  "language_info": {
   "codemirror_mode": {
    "name": "ipython",
    "version": 3
   },
   "file_extension": ".py",
   "mimetype": "text/x-python",
   "name": "python",
   "nbconvert_exporter": "python",
   "pygments_lexer": "ipython3",
   "version": "3.12.8"
  }
 },
 "nbformat": 4,
 "nbformat_minor": 5
}
