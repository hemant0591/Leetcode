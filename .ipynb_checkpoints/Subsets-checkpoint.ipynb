{
 "cells": [
  {
   "cell_type": "markdown",
   "id": "7fbe8c6d-2078-4893-9a2c-3d8c7dc299ef",
   "metadata": {},
   "source": [
    "### 78. Subsets"
   ]
  },
  {
   "cell_type": "markdown",
   "id": "24611e77-453c-47b0-bc16-f208e5d96f4b",
   "metadata": {},
   "source": [
    "Given an integer array nums of unique elements, return all possible subsets (the power set).\n",
    "\n",
    "The solution set must not contain duplicate subsets. Return the solution in any order.\n",
    "\n",
    " \n",
    "\n",
    "Example 1:\n",
    "\n",
    "Input: nums = [1,2,3]\n",
    "Output: [[],[1],[2],[1,2],[3],[1,3],[2,3],[1,2,3]]\n",
    "Example 2:\n",
    "\n",
    "Input: nums = [0]\n",
    "Output: [[],[0]]"
   ]
  },
  {
   "cell_type": "code",
   "execution_count": null,
   "id": "a5abc2a7-18d9-48ae-9c05-b9fc9fa103fa",
   "metadata": {},
   "outputs": [],
   "source": [
    "class Solution:\n",
    "    def subsets(self, nums: List[int]) -> List[List[int]]:\n",
    "        res = []\n",
    "        subset = []\n",
    "\n",
    "        def dfs(i):\n",
    "            if i >= len(nums):\n",
    "                res.append(subset.copy())\n",
    "                return\n",
    "            \n",
    "            # include nums[i]\n",
    "            subset.append(nums[i])\n",
    "            dfs(i + 1)\n",
    "            \n",
    "            # not include nus[i]\n",
    "            subset.pop()\n",
    "            dfs(i + 1)\n",
    "\n",
    "        dfs(0)\n",
    "        return res"
   ]
  }
 ],
 "metadata": {
  "kernelspec": {
   "display_name": "Python 3 (ipykernel)",
   "language": "python",
   "name": "python3"
  },
  "language_info": {
   "codemirror_mode": {
    "name": "ipython",
    "version": 3
   },
   "file_extension": ".py",
   "mimetype": "text/x-python",
   "name": "python",
   "nbconvert_exporter": "python",
   "pygments_lexer": "ipython3",
   "version": "3.12.8"
  }
 },
 "nbformat": 4,
 "nbformat_minor": 5
}
