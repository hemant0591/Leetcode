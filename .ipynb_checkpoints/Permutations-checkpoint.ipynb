{
 "cells": [
  {
   "cell_type": "markdown",
   "id": "64f00331-c169-4bd0-a2b3-e86f4b339222",
   "metadata": {},
   "source": [
    "### 46. Permutations"
   ]
  },
  {
   "cell_type": "markdown",
   "id": "c6d5036a-c906-4b66-8644-11a1d762e687",
   "metadata": {},
   "source": [
    "Given an array nums of distinct integers, return all the possible permutations. You can return the answer in any order.\n",
    "\n",
    " \n",
    "\n",
    "Example 1:\n",
    "\n",
    "Input: nums = [1,2,3]\n",
    "Output: [[1,2,3],[1,3,2],[2,1,3],[2,3,1],[3,1,2],[3,2,1]]\n",
    "Example 2:\n",
    "\n",
    "Input: nums = [0,1]\n",
    "Output: [[0,1],[1,0]]\n",
    "Example 3:\n",
    "\n",
    "Input: nums = [1]\n",
    "Output: [[1]]"
   ]
  },
  {
   "cell_type": "markdown",
   "id": "8f93ad51-e8ae-4f31-b509-be0b6d8b219b",
   "metadata": {},
   "source": [
    "#### Recursion"
   ]
  },
  {
   "cell_type": "code",
   "execution_count": null,
   "id": "3d704575-ff9a-4ba9-a9f2-901eb5bdbe7b",
   "metadata": {},
   "outputs": [],
   "source": [
    "class Solution:\n",
    "    def permute(self, nums: List[int]) -> List[List[int]]:\n",
    "\n",
    "        if len(nums) == 0:\n",
    "            return [[]]\n",
    "\n",
    "        perms = self.permute(nums[1:])\n",
    "        res = []\n",
    "\n",
    "        for p in perms:\n",
    "            for i in range(len(p) + 1):\n",
    "                p_copy = p.copy()\n",
    "                p_copy.insert(i, nums[0])\n",
    "                res.append(p_copy)\n",
    "\n",
    "        return res"
   ]
  },
  {
   "cell_type": "code",
   "execution_count": null,
   "id": "0c03e1fc-1673-4683-a0ac-81dd09b8337c",
   "metadata": {},
   "outputs": [],
   "source": [
    "class Solution:\n",
    "    def permute(self, nums: List[int]) -> List[List[int]]:\n",
    "        perms = [[]]\n",
    "\n",
    "        for n in nums:\n",
    "            new_perms = []\n",
    "            for p in perms:\n",
    "                for i in range(len(p) + 1):\n",
    "                    p_copy = p.copy()\n",
    "                    p_copy.insert(i, n)\n",
    "                    new_perms.append(p_copy)\n",
    "            perms = new_perms\n",
    "        return perms"
   ]
  }
 ],
 "metadata": {
  "kernelspec": {
   "display_name": "Python 3 (ipykernel)",
   "language": "python",
   "name": "python3"
  },
  "language_info": {
   "codemirror_mode": {
    "name": "ipython",
    "version": 3
   },
   "file_extension": ".py",
   "mimetype": "text/x-python",
   "name": "python",
   "nbconvert_exporter": "python",
   "pygments_lexer": "ipython3",
   "version": "3.12.8"
  }
 },
 "nbformat": 4,
 "nbformat_minor": 5
}
