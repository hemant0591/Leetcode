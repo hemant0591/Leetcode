{
 "cells": [
  {
   "cell_type": "markdown",
   "id": "16f5a224-393d-4da7-8726-9395b5c133ed",
   "metadata": {},
   "source": [
    "### 684. Redundant Connection"
   ]
  },
  {
   "cell_type": "markdown",
   "id": "1ee85676-f4b2-46e0-be78-483d6a3fa149",
   "metadata": {},
   "source": [
    "In this problem, a tree is an undirected graph that is connected and has no cycles.\n",
    "\n",
    "You are given a graph that started as a tree with n nodes labeled from 1 to n, with one additional edge added. The added edge has two different vertices chosen from 1 to n, and was not an edge that already existed. The graph is represented as an array edges of length n where edges[i] = [ai, bi] indicates that there is an edge between nodes ai and bi in the graph.\n",
    "\n",
    "Return an edge that can be removed so that the resulting graph is a tree of n nodes. If there are multiple answers, return the answer that occurs last in the input.\n",
    "\n",
    " \n",
    "\n",
    "Example 1:\n",
    "\n",
    "\n",
    "Input: edges = [[1,2],[1,3],[2,3]]\n",
    "Output: [2,3]\n",
    "Example 2:\n",
    "\n",
    "\n",
    "Input: edges = [[1,2],[2,3],[3,4],[1,4],[1,5]]\n",
    "Output: [1,4]"
   ]
  },
  {
   "cell_type": "code",
   "execution_count": null,
   "id": "e6741878-33bb-4d33-95cf-a7ba99c162ff",
   "metadata": {},
   "outputs": [],
   "source": [
    "class Solution:\n",
    "    def findRedundantConnection(self, edges: List[List[int]]) -> List[int]:\n",
    "        N = len(edges)\n",
    "        par = [i for i in range(N + 1)]\n",
    "        rank = [1] * (N + 1)\n",
    "\n",
    "        def find(n):\n",
    "            p = par[n]\n",
    "            while p != par[p]:\n",
    "                par[p] = par[par[p]]\n",
    "                p = par[p]\n",
    "            return p\n",
    "\n",
    "        def union(n1, n2):\n",
    "            p1, p2 = find(n1), find(n2)\n",
    "\n",
    "            if p1 == p2:\n",
    "                return False\n",
    "\n",
    "            if rank[p1] > rank[p2]:\n",
    "                par[p2] = p1\n",
    "                rank[p1] += p2\n",
    "            else:\n",
    "                par[p1] = p2\n",
    "                rank[p2] += p1\n",
    "\n",
    "            return True\n",
    "\n",
    "        for n1, n2 in edges:\n",
    "            if not union(n1, n2):\n",
    "                return [n1, n2]"
   ]
  }
 ],
 "metadata": {
  "kernelspec": {
   "display_name": "Python 3 (ipykernel)",
   "language": "python",
   "name": "python3"
  },
  "language_info": {
   "codemirror_mode": {
    "name": "ipython",
    "version": 3
   },
   "file_extension": ".py",
   "mimetype": "text/x-python",
   "name": "python",
   "nbconvert_exporter": "python",
   "pygments_lexer": "ipython3",
   "version": "3.12.8"
  }
 },
 "nbformat": 4,
 "nbformat_minor": 5
}
