{
 "cells": [
  {
   "cell_type": "markdown",
   "id": "e3b7ed92-2573-4d7c-bb3e-a55177a75dc0",
   "metadata": {},
   "source": [
    "### 1046. Last Stone Weight"
   ]
  },
  {
   "cell_type": "markdown",
   "id": "f5ba2feb-d35d-4964-8e25-5ade5b4abd9d",
   "metadata": {},
   "source": [
    "You are given an array of integers stones where stones[i] is the weight of the ith stone.\n",
    "\n",
    "We are playing a game with the stones. On each turn, we choose the heaviest two stones and smash them together. Suppose the heaviest two stones have weights x and y with x <= y. The result of this smash is:\n",
    "\n",
    "If x == y, both stones are destroyed, and\n",
    "If x != y, the stone of weight x is destroyed, and the stone of weight y has new weight y - x.\n",
    "At the end of the game, there is at most one stone left.\n",
    "\n",
    "Return the weight of the last remaining stone. If there are no stones left, return 0.\n",
    "\n",
    " \n",
    "\n",
    "Example 1:\n",
    "\n",
    "Input: stones = [2,7,4,1,8,1]\n",
    "Output: 1\n",
    "Explanation: \n",
    "We combine 7 and 8 to get 1 so the array converts to [2,4,1,1,1] then,\n",
    "we combine 2 and 4 to get 2 so the array converts to [2,1,1,1] then,\n",
    "we combine 2 and 1 to get 1 so the array converts to [1,1,1] then,\n",
    "we combine 1 and 1 to get 0 so the array converts to [1] then that's the value of the last stone.\n",
    "Example 2:\n",
    "\n",
    "Input: stones = [1]\n",
    "Output: 1"
   ]
  },
  {
   "cell_type": "code",
   "execution_count": null,
   "id": "d6174557-4847-4b8c-ac96-6704cc0fb865",
   "metadata": {},
   "outputs": [],
   "source": [
    "class Solution:\n",
    "    def lastStoneWeight(self, stones: List[int]) -> int:\n",
    "        stones = [-s for s in stones]\n",
    "        heapq.heapify(stones)\n",
    "\n",
    "        while len(stones) > 1:\n",
    "            # x = -7, y = -8\n",
    "            y, x = heapq.heappop(stones), heapq.heappop(stones)\n",
    "\n",
    "            if x > y:\n",
    "                heapq.heappush(stones, y - x)\n",
    "\n",
    "        return -stones[0] if stones else 0"
   ]
  }
 ],
 "metadata": {
  "kernelspec": {
   "display_name": "Python 3 (ipykernel)",
   "language": "python",
   "name": "python3"
  },
  "language_info": {
   "codemirror_mode": {
    "name": "ipython",
    "version": 3
   },
   "file_extension": ".py",
   "mimetype": "text/x-python",
   "name": "python",
   "nbconvert_exporter": "python",
   "pygments_lexer": "ipython3",
   "version": "3.12.8"
  }
 },
 "nbformat": 4,
 "nbformat_minor": 5
}
