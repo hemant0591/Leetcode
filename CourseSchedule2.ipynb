{
 "cells": [
  {
   "cell_type": "markdown",
   "id": "6e44e5bc-f830-493c-97cf-a45c98bb6087",
   "metadata": {},
   "source": [
    "### 210. Course Schedule II"
   ]
  },
  {
   "cell_type": "markdown",
   "id": "7718b49f-353b-4f85-9bde-265368d46d50",
   "metadata": {},
   "source": [
    "There are a total of numCourses courses you have to take, labeled from 0 to numCourses - 1. You are given an array prerequisites where prerequisites[i] = [ai, bi] indicates that you must take course bi first if you want to take course ai.\n",
    "\n",
    "For example, the pair [0, 1], indicates that to take course 0 you have to first take course 1.\n",
    "Return the ordering of courses you should take to finish all courses. If there are many valid answers, return any of them. If it is impossible to finish all courses, return an empty array.\n",
    "\n",
    " \n",
    "\n",
    "Example 1:\n",
    "\n",
    "Input: numCourses = 2, prerequisites = [[1,0]]\n",
    "Output: [0,1]\n",
    "Explanation: There are a total of 2 courses to take. To take course 1 you should have finished course 0. So the correct course order is [0,1].\n",
    "Example 2:\n",
    "\n",
    "Input: numCourses = 4, prerequisites = [[1,0],[2,0],[3,1],[3,2]]\n",
    "Output: [0,2,1,3]\n",
    "Explanation: There are a total of 4 courses to take. To take course 3 you should have finished both courses 1 and 2. Both courses 1 and 2 should be taken after you finished course 0.\n",
    "So one correct course order is [0,1,2,3]. Another correct ordering is [0,2,1,3].\n",
    "Example 3:\n",
    "\n",
    "Input: numCourses = 1, prerequisites = []\n",
    "Output: [0]"
   ]
  },
  {
   "cell_type": "code",
   "execution_count": null,
   "id": "a99fcd18-95e4-4d81-a878-61cb3f8aa174",
   "metadata": {},
   "outputs": [],
   "source": [
    "class Solution:\n",
    "    def findOrder(self, numCourses: int, prerequisites: List[List[int]]) -> List[int]:\n",
    "        preMap = {i : [] for i in range(numCourses)}\n",
    "\n",
    "        for crs, pre in prerequisites:\n",
    "            preMap[crs].append(pre)\n",
    "\n",
    "        res = []\n",
    "        temp, perm = set(), set()\n",
    "\n",
    "        def dfs(crs):\n",
    "            if crs in temp:\n",
    "                return False\n",
    "            if crs in perm:\n",
    "                return True\n",
    "\n",
    "            temp.add(crs)\n",
    "\n",
    "            for pre in preMap[crs]:\n",
    "                if not dfs(pre): return False\n",
    "\n",
    "            temp.remove(crs)\n",
    "            perm.add(crs)\n",
    "            res.append(crs)\n",
    "\n",
    "            return True\n",
    "\n",
    "        for crs in range(numCourses):\n",
    "            if not dfs(crs): return []\n",
    "\n",
    "        return res"
   ]
  }
 ],
 "metadata": {
  "kernelspec": {
   "display_name": "Python 3 (ipykernel)",
   "language": "python",
   "name": "python3"
  },
  "language_info": {
   "codemirror_mode": {
    "name": "ipython",
    "version": 3
   },
   "file_extension": ".py",
   "mimetype": "text/x-python",
   "name": "python",
   "nbconvert_exporter": "python",
   "pygments_lexer": "ipython3",
   "version": "3.12.8"
  }
 },
 "nbformat": 4,
 "nbformat_minor": 5
}
