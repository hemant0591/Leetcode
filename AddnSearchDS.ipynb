{
 "cells": [
  {
   "cell_type": "markdown",
   "id": "c1e82a3c-1453-4f8f-b569-fcc1dc586833",
   "metadata": {},
   "source": [
    "### 211. Design Add and Search Words Data Structure"
   ]
  },
  {
   "cell_type": "markdown",
   "id": "6124b36f-d83d-4883-ae4b-d0b32441a84c",
   "metadata": {},
   "source": [
    "Design a data structure that supports adding new words and finding if a string matches any previously added string.\n",
    "\n",
    "Implement the WordDictionary class:\n",
    "\n",
    "WordDictionary() Initializes the object.\n",
    "void addWord(word) Adds word to the data structure, it can be matched later.\n",
    "bool search(word) Returns true if there is any string in the data structure that matches word or false otherwise. word may contain dots '.' where dots can be matched with any letter.\n",
    " \n",
    "\n",
    "Example:\n",
    "\n",
    "Input\n",
    "[\"WordDictionary\",\"addWord\",\"addWord\",\"addWord\",\"search\",\"search\",\"search\",\"search\"]\n",
    "[[],[\"bad\"],[\"dad\"],[\"mad\"],[\"pad\"],[\"bad\"],[\".ad\"],[\"b..\"]]\n",
    "Output\n",
    "[null,null,null,null,false,true,true,true]\n",
    "\n",
    "Explanation\n",
    "WordDictionary wordDictionary = new WordDictionary();\n",
    "wordDictionary.addWord(\"bad\");\n",
    "wordDictionary.addWord(\"dad\");\n",
    "wordDictionary.addWord(\"mad\");\n",
    "wordDictionary.search(\"pad\"); // return False\n",
    "wordDictionary.search(\"bad\"); // return True\n",
    "wordDictionary.search(\".ad\"); // return True\n",
    "wordDictionary.search(\"b..\"); // return True"
   ]
  },
  {
   "cell_type": "code",
   "execution_count": null,
   "id": "b029b942-deec-402c-94bf-f279f17a9726",
   "metadata": {},
   "outputs": [],
   "source": [
    "class TrieNode:\n",
    "    def __init__(self):\n",
    "        self.children = {}\n",
    "        self.endofword = False\n",
    "\n",
    "class WordDictionary:\n",
    "    def __init__(self):\n",
    "        self.root = TrieNode()\n",
    "        \n",
    "    def addWord(self, word: str) -> None:\n",
    "        curr = self.root\n",
    "\n",
    "        for c in word:\n",
    "            if c not in curr.children:\n",
    "                curr.children[c] = TrieNode()\n",
    "            curr = curr.children[c]\n",
    "        curr.endofword = True\n",
    "        \n",
    "    def search(self, word: str) -> bool:\n",
    "        def dfs(j, node):\n",
    "            curr = node\n",
    "\n",
    "            for i in range(j, len(word)):\n",
    "                c = word[i]\n",
    "\n",
    "                if c == \".\":\n",
    "                    for child in curr.children.values():\n",
    "                        if dfs(i + 1, child): return True\n",
    "                    return False\n",
    "\n",
    "                else:\n",
    "                    if c not in curr.children:\n",
    "                        return False\n",
    "                    curr = curr.children[c]\n",
    "            return curr.endofword\n",
    "\n",
    "        return dfs(0, self.root)\n",
    "\n",
    "        \n",
    "\n",
    "\n",
    "# Your WordDictionary object will be instantiated and called as such:\n",
    "# obj = WordDictionary()\n",
    "# obj.addWord(word)\n",
    "# param_2 = obj.search(word)"
   ]
  }
 ],
 "metadata": {
  "kernelspec": {
   "display_name": "Python 3 (ipykernel)",
   "language": "python",
   "name": "python3"
  },
  "language_info": {
   "codemirror_mode": {
    "name": "ipython",
    "version": 3
   },
   "file_extension": ".py",
   "mimetype": "text/x-python",
   "name": "python",
   "nbconvert_exporter": "python",
   "pygments_lexer": "ipython3",
   "version": "3.12.8"
  }
 },
 "nbformat": 4,
 "nbformat_minor": 5
}
