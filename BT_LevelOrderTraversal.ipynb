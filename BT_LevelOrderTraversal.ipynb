{
 "cells": [
  {
   "cell_type": "markdown",
   "id": "b7dba23c-a27b-4ee2-a98f-856b568a73de",
   "metadata": {},
   "source": [
    "### 102. Binary Tree Level Order Traversal"
   ]
  },
  {
   "cell_type": "markdown",
   "id": "9ad16f79-b189-4aae-af5c-de7eefbc45c7",
   "metadata": {},
   "source": [
    "Given the root of a binary tree, return the level order traversal of its nodes' values. (i.e., from left to right, level by level).\n",
    "\n",
    " \n",
    "\n",
    "Example 1:\n",
    "\n",
    "\n",
    "Input: root = [3,9,20,null,null,15,7]\n",
    "Output: [[3],[9,20],[15,7]]\n",
    "Example 2:\n",
    "\n",
    "Input: root = [1]\n",
    "Output: [[1]]\n",
    "Example 3:\n",
    "\n",
    "Input: root = []\n",
    "Output: []\n"
   ]
  },
  {
   "cell_type": "code",
   "execution_count": null,
   "id": "4dc011e0-d704-4df6-b7a6-854e6fe9bc41",
   "metadata": {},
   "outputs": [],
   "source": [
    "# Definition for a binary tree node.\n",
    "# class TreeNode:\n",
    "#     def __init__(self, val=0, left=None, right=None):\n",
    "#         self.val = val\n",
    "#         self.left = left\n",
    "#         self.right = right\n",
    "class Solution:\n",
    "    def levelOrder(self, root: Optional[TreeNode]) -> List[List[int]]:\n",
    "        res = []\n",
    "        q = deque()\n",
    "        q.append(root)\n",
    "\n",
    "        while q:\n",
    "            qLen = len(q)\n",
    "            level = []\n",
    "            for _ in range(qLen):\n",
    "                node = q.popleft()\n",
    "                if node:\n",
    "                    level.append(node.val)\n",
    "                    q.append(node.left)\n",
    "                    q.append(node.right)\n",
    "            if level: res.append(level)\n",
    "\n",
    "        return res"
   ]
  }
 ],
 "metadata": {
  "kernelspec": {
   "display_name": "Python 3 (ipykernel)",
   "language": "python",
   "name": "python3"
  },
  "language_info": {
   "codemirror_mode": {
    "name": "ipython",
    "version": 3
   },
   "file_extension": ".py",
   "mimetype": "text/x-python",
   "name": "python",
   "nbconvert_exporter": "python",
   "pygments_lexer": "ipython3",
   "version": "3.12.8"
  }
 },
 "nbformat": 4,
 "nbformat_minor": 5
}
