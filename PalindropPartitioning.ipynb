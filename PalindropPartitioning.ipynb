{
 "cells": [
  {
   "cell_type": "markdown",
   "id": "210e7582-565c-4201-9e67-a380b9986a42",
   "metadata": {},
   "source": [
    "### 131. Palindrome Partitioning"
   ]
  },
  {
   "cell_type": "markdown",
   "id": "037803c1-c639-408a-a56d-ee84889f3202",
   "metadata": {},
   "source": [
    "Given a string s, partition s such that every substring of the partition is a palindrome. Return all possible palindrome partitioning of s.\n",
    "\n",
    " \n",
    "\n",
    "Example 1:\n",
    "\n",
    "Input: s = \"aab\"\n",
    "Output: [[\"a\",\"a\",\"b\"],[\"aa\",\"b\"]]\n",
    "Example 2:\n",
    "\n",
    "Input: s = \"a\"\n",
    "Output: [[\"a\"]]"
   ]
  },
  {
   "cell_type": "code",
   "execution_count": null,
   "id": "bdaad569-38d3-45b5-a17b-d77146958363",
   "metadata": {},
   "outputs": [],
   "source": [
    "class Solution:\n",
    "    def partition(self, s: str) -> List[List[str]]:\n",
    "        res = []\n",
    "        part = []\n",
    "\n",
    "        def dfs(i):\n",
    "            if i >= len(s):\n",
    "                res.append(part.copy())\n",
    "                return\n",
    "\n",
    "            for j in range(i, len(s)):\n",
    "                if self.isPali(s, i, j):\n",
    "                    part.append(s[i:j+1])\n",
    "                    dfs(j+1)\n",
    "                    part.pop()\n",
    "\n",
    "        dfs(0)\n",
    "        return res\n",
    "\n",
    "    def isPali(self, s, l, r):\n",
    "        while l < r:\n",
    "            if s[l] != s[r]: return False\n",
    "            l, r = l + 1, r - 1\n",
    "        return True"
   ]
  }
 ],
 "metadata": {
  "kernelspec": {
   "display_name": "Python 3 (ipykernel)",
   "language": "python",
   "name": "python3"
  },
  "language_info": {
   "codemirror_mode": {
    "name": "ipython",
    "version": 3
   },
   "file_extension": ".py",
   "mimetype": "text/x-python",
   "name": "python",
   "nbconvert_exporter": "python",
   "pygments_lexer": "ipython3",
   "version": "3.12.8"
  }
 },
 "nbformat": 4,
 "nbformat_minor": 5
}
