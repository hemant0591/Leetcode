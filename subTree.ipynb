{
 "cells": [
  {
   "cell_type": "markdown",
   "id": "0724780e-45d1-4254-8c02-bc6639139102",
   "metadata": {},
   "source": [
    "### 572. Subtree of Another Tree"
   ]
  },
  {
   "cell_type": "markdown",
   "id": "2723f408-0027-46cb-80f2-cab78e7782a3",
   "metadata": {},
   "source": [
    "Given the roots of two binary trees root and subRoot, return true if there is a subtree of root with the same structure and node values of subRoot and false otherwise.\n",
    "\n",
    "A subtree of a binary tree tree is a tree that consists of a node in tree and all of this node's descendants. The tree tree could also be considered as a subtree of itself.\n",
    "\n",
    " \n",
    "\n",
    "Example 1:\n",
    "\n",
    "\n",
    "Input: root = [3,4,5,1,2], subRoot = [4,1,2]\n",
    "Output: true\n",
    "Example 2:\n",
    "\n",
    "\n",
    "Input: root = [3,4,5,1,2,null,null,null,null,0], subRoot = [4,1,2]\n",
    "Output: false"
   ]
  },
  {
   "cell_type": "code",
   "execution_count": null,
   "id": "c29fb08c-e318-4f5b-83da-5e4f4a9cc6a2",
   "metadata": {},
   "outputs": [],
   "source": [
    "# Definition for a binary tree node.\n",
    "# class TreeNode:\n",
    "#     def __init__(self, val=0, left=None, right=None):\n",
    "#         self.val = val\n",
    "#         self.left = left\n",
    "#         self.right = right\n",
    "class Solution:\n",
    "    def isSubtree(self, root: Optional[TreeNode], subRoot: Optional[TreeNode]) -> bool:\n",
    "        if not subRoot: return True\n",
    "        if not root: return False\n",
    "        if self.isSameTree(root, subRoot): return True\n",
    "\n",
    "        return (self.isSubtree(root.left, subRoot) or \n",
    "                self.isSubtree(root.right, subRoot))\n",
    "\n",
    "    def isSameTree(self, t1, t2):\n",
    "        if not t1 and not t2: return True\n",
    "        if not t1 or not t2 or t1.val != t2.val: return False\n",
    "        return (self.isSameTree(t1.left, t2.left) and\n",
    "                self.isSameTree(t1.right, t2.right))"
   ]
  }
 ],
 "metadata": {
  "kernelspec": {
   "display_name": "Python 3 (ipykernel)",
   "language": "python",
   "name": "python3"
  },
  "language_info": {
   "codemirror_mode": {
    "name": "ipython",
    "version": 3
   },
   "file_extension": ".py",
   "mimetype": "text/x-python",
   "name": "python",
   "nbconvert_exporter": "python",
   "pygments_lexer": "ipython3",
   "version": "3.9.13"
  }
 },
 "nbformat": 4,
 "nbformat_minor": 5
}
