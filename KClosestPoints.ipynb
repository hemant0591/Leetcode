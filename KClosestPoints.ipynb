{
 "cells": [
  {
   "cell_type": "markdown",
   "id": "bbd8aba5-dcb5-490f-b05a-00e89be6b7d7",
   "metadata": {},
   "source": [
    "### 973. K Closest Points to Origin"
   ]
  },
  {
   "cell_type": "markdown",
   "id": "5fc795b5-ff9e-4aa9-a06d-fd9f0dcc5d16",
   "metadata": {},
   "source": [
    "Given an array of points where points[i] = [xi, yi] represents a point on the X-Y plane and an integer k, return the k closest points to the origin (0, 0).\n",
    "\n",
    "The distance between two points on the X-Y plane is the Euclidean distance (i.e., √(x1 - x2)2 + (y1 - y2)2).\n",
    "\n",
    "You may return the answer in any order. The answer is guaranteed to be unique (except for the order that it is in).\n",
    "\n",
    " \n",
    "\n",
    "Example 1:\n",
    "\n",
    "\n",
    "Input: points = [[1,3],[-2,2]], k = 1\n",
    "Output: [[-2,2]]\n",
    "Explanation:\n",
    "The distance between (1, 3) and the origin is sqrt(10).\n",
    "The distance between (-2, 2) and the origin is sqrt(8).\n",
    "Since sqrt(8) < sqrt(10), (-2, 2) is closer to the origin.\n",
    "We only want the closest k = 1 points from the origin, so the answer is just [[-2,2]].\n",
    "Example 2:\n",
    "\n",
    "Input: points = [[3,3],[5,-1],[-2,4]], k = 2\n",
    "Output: [[3,3],[-2,4]]\n",
    "Explanation: The answer [[-2,4],[3,3]] would also be accepted."
   ]
  },
  {
   "cell_type": "code",
   "execution_count": null,
   "id": "e0b51b4c-ec16-4e47-a99b-349b9faddcb6",
   "metadata": {},
   "outputs": [],
   "source": [
    "class Solution:\n",
    "    def kClosest(self, points: List[List[int]], k: int) -> List[List[int]]:\n",
    "        stack = []\n",
    "        res = []\n",
    "\n",
    "        for x, y in points:\n",
    "            dist = (x-0)**2 + (y-0)**2\n",
    "            stack.append([dist,x,y])\n",
    "\n",
    "        heapq.heapify(stack)\n",
    "\n",
    "        while k > 0:\n",
    "            dist, x, y = heapq.heappop(stack)\n",
    "            res.append([x,y])\n",
    "            k -= 1\n",
    "\n",
    "        return res"
   ]
  }
 ],
 "metadata": {
  "kernelspec": {
   "display_name": "Python 3 (ipykernel)",
   "language": "python",
   "name": "python3"
  },
  "language_info": {
   "codemirror_mode": {
    "name": "ipython",
    "version": 3
   },
   "file_extension": ".py",
   "mimetype": "text/x-python",
   "name": "python",
   "nbconvert_exporter": "python",
   "pygments_lexer": "ipython3",
   "version": "3.12.8"
  }
 },
 "nbformat": 4,
 "nbformat_minor": 5
}
