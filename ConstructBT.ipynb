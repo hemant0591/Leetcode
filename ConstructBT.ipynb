{
 "cells": [
  {
   "cell_type": "markdown",
   "id": "d34e11f4-bce4-403e-9bcc-166a9654f69d",
   "metadata": {},
   "source": [
    "### 105. Construct Binary Tree from Preorder and Inorder Traversal"
   ]
  },
  {
   "cell_type": "markdown",
   "id": "3bf73588-daf9-4592-9592-190efb63de92",
   "metadata": {},
   "source": [
    "Given two integer arrays preorder and inorder where preorder is the preorder traversal of a binary tree and inorder is the inorder traversal of the same tree, construct and return the binary tree.\n",
    "\n",
    " \n",
    "\n",
    "Example 1:\n",
    "\n",
    "\n",
    "Input: preorder = [3,9,20,15,7], inorder = [9,3,15,20,7]\n",
    "Output: [3,9,20,null,null,15,7]\n",
    "Example 2:\n",
    "\n",
    "Input: preorder = [-1], inorder = [-1]\n",
    "Output: [-1]"
   ]
  },
  {
   "cell_type": "code",
   "execution_count": null,
   "id": "90ef1ce8-c0d7-4109-93da-b03c225e94d5",
   "metadata": {},
   "outputs": [],
   "source": [
    "# Definition for a binary tree node.\n",
    "# class TreeNode:\n",
    "#     def __init__(self, val=0, left=None, right=None):\n",
    "#         self.val = val\n",
    "#         self.left = left\n",
    "#         self.right = right\n",
    "class Solution:\n",
    "    def buildTree(self, preorder: List[int], inorder: List[int]) -> Optional[TreeNode]:\n",
    "        if not preorder or not inorder: return None\n",
    "        \n",
    "        root = TreeNode(preorder[0])\n",
    "        mid = inorder.index(preorder[0])\n",
    "        root.left = self.buildTree(preorder[1:mid+1], inorder[:mid])\n",
    "        root.right = self.buildTree(preorder[mid+1:], inorder[mid+1:])\n",
    "\n",
    "        return root"
   ]
  }
 ],
 "metadata": {
  "kernelspec": {
   "display_name": "Python 3 (ipykernel)",
   "language": "python",
   "name": "python3"
  },
  "language_info": {
   "codemirror_mode": {
    "name": "ipython",
    "version": 3
   },
   "file_extension": ".py",
   "mimetype": "text/x-python",
   "name": "python",
   "nbconvert_exporter": "python",
   "pygments_lexer": "ipython3",
   "version": "3.12.8"
  }
 },
 "nbformat": 4,
 "nbformat_minor": 5
}
