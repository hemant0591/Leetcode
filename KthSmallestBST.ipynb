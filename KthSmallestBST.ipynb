{
 "cells": [
  {
   "cell_type": "markdown",
   "id": "ccd91443-7aea-4f90-8ff7-0b2c896f6848",
   "metadata": {},
   "source": [
    "### 230. Kth Smallest Element in a BST"
   ]
  },
  {
   "cell_type": "markdown",
   "id": "184f0cb8-5357-416a-bdc6-59f44e09eacf",
   "metadata": {},
   "source": [
    "Given the root of a binary search tree, and an integer k, return the kth smallest value (1-indexed) of all the values of the nodes in the tree.\n",
    "\n",
    " \n",
    "\n",
    "Example 1:\n",
    "\n",
    "\n",
    "Input: root = [3,1,4,null,2], k = 1\n",
    "Output: 1\n",
    "Example 2:\n",
    "\n",
    "\n",
    "Input: root = [5,3,6,2,4,null,null,1], k = 3\n",
    "Output: 3"
   ]
  },
  {
   "cell_type": "markdown",
   "id": "9e3bf613-bd6d-4764-a2d9-f3b842fed847",
   "metadata": {},
   "source": [
    "#### Brute Force"
   ]
  },
  {
   "cell_type": "code",
   "execution_count": null,
   "id": "505e60f4-3961-4ac7-b990-7fb0da1afdf0",
   "metadata": {},
   "outputs": [],
   "source": [
    "# Definition for a binary tree node.\n",
    "# class TreeNode:\n",
    "#     def __init__(self, val=0, left=None, right=None):\n",
    "#         self.val = val\n",
    "#         self.left = left\n",
    "#         self.right = right\n",
    "class Solution:\n",
    "    def kthSmallest(self, root: Optional[TreeNode], k: int) -> int:\n",
    "        stack = []\n",
    "\n",
    "        def dfs(node):\n",
    "            if not node: return None\n",
    "\n",
    "            stack.append(node.val)\n",
    "            dfs(node.left)\n",
    "            dfs(node.right)\n",
    "\n",
    "        dfs(root)\n",
    "        stack.sort()\n",
    "        return stack[k-1]"
   ]
  },
  {
   "cell_type": "markdown",
   "id": "b58d72d3-eec1-4ea2-a68c-b44537d3a28f",
   "metadata": {},
   "source": [
    "#### Recursive DFS"
   ]
  },
  {
   "cell_type": "code",
   "execution_count": null,
   "id": "8284d24a-bcac-4334-afc8-9a0b9f74ab02",
   "metadata": {},
   "outputs": [],
   "source": [
    "# Definition for a binary tree node.\n",
    "# class TreeNode:\n",
    "#     def __init__(self, val=0, left=None, right=None):\n",
    "#         self.val = val\n",
    "#         self.left = left\n",
    "#         self.right = right\n",
    "class Solution:\n",
    "    def kthSmallest(self, root: Optional[TreeNode], k: int) -> int:\n",
    "        stack = []\n",
    "\n",
    "        def dfs(node):\n",
    "            if not node: return None\n",
    "\n",
    "            dfs(node.left)\n",
    "            stack.append(node.val)\n",
    "            dfs(node.right)\n",
    "\n",
    "        dfs(root)\n",
    "        return stack[k-1]"
   ]
  }
 ],
 "metadata": {
  "kernelspec": {
   "display_name": "Python 3 (ipykernel)",
   "language": "python",
   "name": "python3"
  },
  "language_info": {
   "codemirror_mode": {
    "name": "ipython",
    "version": 3
   },
   "file_extension": ".py",
   "mimetype": "text/x-python",
   "name": "python",
   "nbconvert_exporter": "python",
   "pygments_lexer": "ipython3",
   "version": "3.12.8"
  }
 },
 "nbformat": 4,
 "nbformat_minor": 5
}
