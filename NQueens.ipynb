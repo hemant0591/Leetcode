{
 "cells": [
  {
   "cell_type": "markdown",
   "id": "d5e45c4b-6835-45c9-a332-0fb547d5756b",
   "metadata": {},
   "source": [
    "### 51. N-Queens"
   ]
  },
  {
   "cell_type": "markdown",
   "id": "08bab917-554a-4b35-ac01-94baf0c80fc7",
   "metadata": {},
   "source": [
    "The n-queens puzzle is the problem of placing n queens on an n x n chessboard such that no two queens attack each other.\n",
    "\n",
    "Given an integer n, return all distinct solutions to the n-queens puzzle. You may return the answer in any order.\n",
    "\n",
    "Each solution contains a distinct board configuration of the n-queens' placement, where 'Q' and '.' both indicate a queen and an empty space, respectively.\n",
    "\n",
    " \n",
    "\n",
    "Example 1:\n",
    "\n",
    "\n",
    "Input: n = 4\n",
    "Output: [[\".Q..\",\"...Q\",\"Q...\",\"..Q.\"],[\"..Q.\",\"Q...\",\"...Q\",\".Q..\"]]\n",
    "Explanation: There exist two distinct solutions to the 4-queens puzzle as shown above\n",
    "Example 2:\n",
    "\n",
    "Input: n = 1\n",
    "Output: [[\"Q\"]]"
   ]
  },
  {
   "cell_type": "code",
   "execution_count": null,
   "id": "d1da9870-20bc-4856-a5db-ac365b715af4",
   "metadata": {},
   "outputs": [],
   "source": [
    "class Solution:\n",
    "    def solveNQueens(self, n: int) -> List[List[str]]:\n",
    "        col = set()\n",
    "        posDiag = set() # r + c\n",
    "        negDiag = set() # r - c\n",
    "\n",
    "        board = [[\".\"] * n for _ in range(n)]\n",
    "        res = []\n",
    "\n",
    "        def dfs(r):\n",
    "            if r == n:\n",
    "                copy = [\"\".join(row) for row in board]\n",
    "                res.append(copy)\n",
    "                return\n",
    "\n",
    "            for c in range(n):\n",
    "                if c in col or (r + c) in posDiag or (r - c) in negDiag:\n",
    "                    continue\n",
    "\n",
    "                col.add(c)\n",
    "                posDiag.add(r + c)\n",
    "                negDiag.add(r - c)\n",
    "                board[r][c] = \"Q\"\n",
    "\n",
    "                dfs(r + 1)\n",
    "\n",
    "                col.remove(c)\n",
    "                posDiag.remove(r + c)\n",
    "                negDiag.remove(r - c)\n",
    "                board[r][c] = \".\"\n",
    "\n",
    "        dfs(0)\n",
    "        return res"
   ]
  }
 ],
 "metadata": {
  "kernelspec": {
   "display_name": "Python 3 (ipykernel)",
   "language": "python",
   "name": "python3"
  },
  "language_info": {
   "codemirror_mode": {
    "name": "ipython",
    "version": 3
   },
   "file_extension": ".py",
   "mimetype": "text/x-python",
   "name": "python",
   "nbconvert_exporter": "python",
   "pygments_lexer": "ipython3",
   "version": "3.12.8"
  }
 },
 "nbformat": 4,
 "nbformat_minor": 5
}
