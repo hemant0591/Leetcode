{
 "cells": [
  {
   "cell_type": "markdown",
   "id": "68c89b14-846d-4a8f-b6cd-5a785c3de7d8",
   "metadata": {},
   "source": [
    "### 90. Subsets II"
   ]
  },
  {
   "cell_type": "markdown",
   "id": "8ca7fe9a-c767-4817-8c52-c70683a17f3e",
   "metadata": {},
   "source": [
    "Given an integer array nums that may contain duplicates, return all possible subsets (the power set).\n",
    "\n",
    "The solution set must not contain duplicate subsets. Return the solution in any order.\n",
    "\n",
    " \n",
    "\n",
    "Example 1:\n",
    "\n",
    "Input: nums = [1,2,2]\n",
    "Output: [[],[1],[1,2],[1,2,2],[2],[2,2]]\n",
    "Example 2:\n",
    "\n",
    "Input: nums = [0]\n",
    "Output: [[],[0]]"
   ]
  },
  {
   "cell_type": "code",
   "execution_count": null,
   "id": "11a5e076-82a4-427a-bb20-111f835693c0",
   "metadata": {},
   "outputs": [],
   "source": [
    "class Solution:\n",
    "    def subsetsWithDup(self, nums: List[int]) -> List[List[int]]:\n",
    "        res = []\n",
    "        subsets = []\n",
    "\n",
    "        nums.sort()\n",
    "\n",
    "        def backtrack(i):\n",
    "            if i >= len(nums):\n",
    "                res.append(subsets.copy())\n",
    "                return\n",
    "\n",
    "            # include nums[i]\n",
    "            subsets.append(nums[i])\n",
    "            backtrack(i + 1)\n",
    "\n",
    "            # exclude nums[i]\n",
    "            subsets.pop()\n",
    "\n",
    "            # keep moving the pointer till nums[i] == nums[i + 1]\n",
    "            while (i + 1) < len(nums) and nums[i] == nums[i + 1]:\n",
    "                i += 1\n",
    "            \n",
    "            backtrack(i + 1)\n",
    "\n",
    "        backtrack(0)\n",
    "\n",
    "        return res"
   ]
  }
 ],
 "metadata": {
  "kernelspec": {
   "display_name": "Python 3 (ipykernel)",
   "language": "python",
   "name": "python3"
  },
  "language_info": {
   "codemirror_mode": {
    "name": "ipython",
    "version": 3
   },
   "file_extension": ".py",
   "mimetype": "text/x-python",
   "name": "python",
   "nbconvert_exporter": "python",
   "pygments_lexer": "ipython3",
   "version": "3.12.8"
  }
 },
 "nbformat": 4,
 "nbformat_minor": 5
}
