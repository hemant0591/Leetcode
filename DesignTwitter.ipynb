{
 "cells": [
  {
   "cell_type": "markdown",
   "id": "0034f590-6db1-40df-8ef2-36a33781368d",
   "metadata": {},
   "source": [
    "### 355. Design Twitter"
   ]
  },
  {
   "cell_type": "markdown",
   "id": "7b03e28e-01e9-4498-a8e6-2b3d5cceb097",
   "metadata": {},
   "source": [
    "Design a simplified version of Twitter where users can post tweets, follow/unfollow another user, and is able to see the 10 most recent tweets in the user's news feed.\n",
    "\n",
    "Implement the Twitter class:\n",
    "\n",
    "Twitter() Initializes your twitter object.\n",
    "void postTweet(int userId, int tweetId) Composes a new tweet with ID tweetId by the user userId. Each call to this function will be made with a unique tweetId.\n",
    "List<Integer> getNewsFeed(int userId) Retrieves the 10 most recent tweet IDs in the user's news feed. Each item in the news feed must be posted by users who the user followed or by the user themself. Tweets must be ordered from most recent to least recent.\n",
    "void follow(int followerId, int followeeId) The user with ID followerId started following the user with ID followeeId.\n",
    "void unfollow(int followerId, int followeeId) The user with ID followerId started unfollowing the user with ID followeeId.\n",
    " \n",
    "\n",
    "Example 1:\n",
    "\n",
    "Input\n",
    "[\"Twitter\", \"postTweet\", \"getNewsFeed\", \"follow\", \"postTweet\", \"getNewsFeed\", \"unfollow\", \"getNewsFeed\"]\n",
    "[[], [1, 5], [1], [1, 2], [2, 6], [1], [1, 2], [1]]\n",
    "Output\n",
    "[null, null, [5], null, null, [6, 5], null, [5]]\n",
    "\n",
    "Explanation\n",
    "Twitter twitter = new Twitter();\n",
    "twitter.postTweet(1, 5); // User 1 posts a new tweet (id = 5).\n",
    "twitter.getNewsFeed(1);  // User 1's news feed should return a list with 1 tweet id -> [5]. return [5]\n",
    "twitter.follow(1, 2);    // User 1 follows user 2.\n",
    "twitter.postTweet(2, 6); // User 2 posts a new tweet (id = 6).\n",
    "twitter.getNewsFeed(1);  // User 1's news feed should return a list with 2 tweet ids -> [6, 5]. Tweet id 6 should precede tweet id 5 because it is posted after tweet id 5.\n",
    "twitter.unfollow(1, 2);  // User 1 unfollows user 2.\n",
    "twitter.getNewsFeed(1);  // User 1's news feed should return a list with 1 tweet id -> [5], since user 1 is no longer following user 2.\n"
   ]
  },
  {
   "cell_type": "code",
   "execution_count": null,
   "id": "c0f101fd-870e-470c-8c32-2704554e74fb",
   "metadata": {},
   "outputs": [],
   "source": [
    "class Twitter:\n",
    "\n",
    "    def __init__(self):\n",
    "        self.count = 0\n",
    "        self.followMap = defaultdict(set) # followerId -> set(followeeId)\n",
    "        self.tweetMap = defaultdict(list) # userid -> [count, tweetid]\n",
    "        \n",
    "    def postTweet(self, userId: int, tweetId: int) -> None:\n",
    "        self.tweetMap[userId].append([self.count, tweetId])\n",
    "        self.count -= 1\n",
    "\n",
    "    def getNewsFeed(self, userId: int) -> List[int]:\n",
    "        tweets = []\n",
    "        minHeap = []\n",
    "\n",
    "        self.followMap[userId].add(userId)\n",
    "        for followeeId in self.followMap[userId]:\n",
    "            if followeeId in self.tweetMap:\n",
    "                index = len(self.tweetMap[followeeId]) - 1\n",
    "                count, tweetId = self.tweetMap[followeeId][index]\n",
    "                minHeap.append([count, tweetId, followeeId, index - 1])\n",
    "        \n",
    "        heapq.heapify(minHeap)\n",
    "\n",
    "        while minHeap and len(tweets) < 10:\n",
    "            count, tweetId, followeeId, index = heapq.heappop(minHeap)\n",
    "            tweets.append(tweetId)\n",
    "            if index >= 0:\n",
    "                count, tweetId = self.tweetMap[followeeId][index]\n",
    "                heapq.heappush(minHeap, [count, tweetId, followeeId, index - 1])\n",
    "        \n",
    "        return tweets\n",
    "        \n",
    "    def follow(self, followerId: int, followeeId: int) -> None:\n",
    "        self.followMap[followerId].add(followeeId)\n",
    "        \n",
    "    def unfollow(self, followerId: int, followeeId: int) -> None:\n",
    "        if followeeId in self.followMap[followerId]:\n",
    "            self.followMap[followerId].remove(followeeId)\n",
    "        \n",
    "\n",
    "\n",
    "# Your Twitter object will be instantiated and called as such:\n",
    "# obj = Twitter()\n",
    "# obj.postTweet(userId,tweetId)\n",
    "# param_2 = obj.getNewsFeed(userId)\n",
    "# obj.follow(followerId,followeeId)\n",
    "# obj.unfollow(followerId,followeeId)"
   ]
  }
 ],
 "metadata": {
  "kernelspec": {
   "display_name": "Python 3 (ipykernel)",
   "language": "python",
   "name": "python3"
  },
  "language_info": {
   "codemirror_mode": {
    "name": "ipython",
    "version": 3
   },
   "file_extension": ".py",
   "mimetype": "text/x-python",
   "name": "python",
   "nbconvert_exporter": "python",
   "pygments_lexer": "ipython3",
   "version": "3.12.8"
  }
 },
 "nbformat": 4,
 "nbformat_minor": 5
}
