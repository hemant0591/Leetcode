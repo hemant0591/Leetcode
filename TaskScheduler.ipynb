{
 "cells": [
  {
   "cell_type": "markdown",
   "id": "1bdd05f6-74e9-4b32-9c0b-36022f017657",
   "metadata": {},
   "source": [
    "#### 621. Task Scheduler"
   ]
  },
  {
   "cell_type": "markdown",
   "id": "a0cf657a-34d5-43ea-bfed-0c57c6990c81",
   "metadata": {},
   "source": [
    "You are given an array of CPU tasks, each labeled with a letter from A to Z, and a number n. Each CPU interval can be idle or allow the completion of one task. Tasks can be completed in any order, but there's a constraint: there has to be a gap of at least n intervals between two tasks with the same label.\n",
    "\n",
    "Return the minimum number of CPU intervals required to complete all tasks.\n",
    "\n",
    " \n",
    "\n",
    "Example 1:\n",
    "\n",
    "Input: tasks = [\"A\",\"A\",\"A\",\"B\",\"B\",\"B\"], n = 2\n",
    "\n",
    "Output: 8\n",
    "\n",
    "Explanation: A possible sequence is: A -> B -> idle -> A -> B -> idle -> A -> B.\n",
    "\n",
    "After completing task A, you must wait two intervals before doing A again. The same applies to task B. In the 3rd interval, neither A nor B can be done, so you idle. By the 4th interval, you can do A again as 2 intervals have passed.\n",
    "\n",
    "Example 2:\n",
    "\n",
    "Input: tasks = [\"A\",\"C\",\"A\",\"B\",\"D\",\"B\"], n = 1\n",
    "\n",
    "Output: 6\n",
    "\n",
    "Explanation: A possible sequence is: A -> B -> C -> D -> A -> B.\n",
    "\n",
    "With a cooling interval of 1, you can repeat a task after just one other task.\n",
    "\n",
    "Example 3:\n",
    "\n",
    "Input: tasks = [\"A\",\"A\",\"A\", \"B\",\"B\",\"B\"], n = 3\n",
    "\n",
    "Output: 10\n",
    "\n",
    "Explanation: A possible sequence is: A -> B -> idle -> idle -> A -> B -> idle -> idle -> A -> B.\n",
    "\n",
    "There are only two types of tasks, A and B, which need to be separated by 3 intervals. This leads to idling twice between repetitions of these tasks."
   ]
  },
  {
   "cell_type": "code",
   "execution_count": null,
   "id": "6a46837c-e325-40f8-a07d-224409673191",
   "metadata": {},
   "outputs": [],
   "source": [
    "class Solution:\n",
    "    def leastInterval(self, tasks: List[str], n: int) -> int:\n",
    "        count = [0] * 26\n",
    "\n",
    "        for task in tasks:\n",
    "            count[ord(task) - ord(\"A\")] += 1\n",
    "\n",
    "        maxf = max(count)\n",
    "        maxCount = 0\n",
    "\n",
    "        for c in count:\n",
    "            maxCount += 1 if c == maxf else 0\n",
    "\n",
    "        time = (maxf - 1) * (n + 1) + maxCount # (maxf - 1) blocks each of length (n + 1)\n",
    "\n",
    "        return max(len(tasks), time)"
   ]
  }
 ],
 "metadata": {
  "kernelspec": {
   "display_name": "Python 3 (ipykernel)",
   "language": "python",
   "name": "python3"
  },
  "language_info": {
   "codemirror_mode": {
    "name": "ipython",
    "version": 3
   },
   "file_extension": ".py",
   "mimetype": "text/x-python",
   "name": "python",
   "nbconvert_exporter": "python",
   "pygments_lexer": "ipython3",
   "version": "3.12.8"
  }
 },
 "nbformat": 4,
 "nbformat_minor": 5
}
