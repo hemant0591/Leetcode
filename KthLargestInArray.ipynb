{
 "cells": [
  {
   "cell_type": "markdown",
   "id": "9d81d8c9-ef6f-49fd-b0b1-77ce4701bd72",
   "metadata": {},
   "source": [
    "### 215. Kth Largest Element in an Array"
   ]
  },
  {
   "cell_type": "markdown",
   "id": "47dcd3fc-9c71-457e-855c-44410cc2748a",
   "metadata": {},
   "source": [
    "Given an integer array nums and an integer k, return the kth largest element in the array.\n",
    "\n",
    "Note that it is the kth largest element in the sorted order, not the kth distinct element.\n",
    "\n",
    "Can you solve it without sorting?\n",
    "\n",
    " \n",
    "\n",
    "Example 1:\n",
    "\n",
    "Input: nums = [3,2,1,5,6,4], k = 2\n",
    "Output: 5\n",
    "Example 2:\n",
    "\n",
    "Input: nums = [3,2,3,1,2,4,5,5,6], k = 4\n",
    "Output: 4"
   ]
  },
  {
   "cell_type": "code",
   "execution_count": null,
   "id": "94608f9b-0e0c-4291-ae4a-c0393b68d792",
   "metadata": {},
   "outputs": [],
   "source": [
    "# pops n-k times, better if n is closer to k\n",
    "\n",
    "class Solution:\n",
    "    def findKthLargest(self, nums: List[int], k: int) -> int:\n",
    "        heapq.heapify(nums)\n",
    "\n",
    "        while len(nums) > k:\n",
    "            heapq.heappop(nums)\n",
    "\n",
    "        return nums[0]"
   ]
  },
  {
   "cell_type": "code",
   "execution_count": null,
   "id": "570f6b8e-c6f2-47e5-b425-c1cbaa8f235f",
   "metadata": {},
   "outputs": [],
   "source": [
    "# pops k times, better if k << n, requires extra space\n",
    "\n",
    "class Solution:\n",
    "    def findKthLargest(self, nums: List[int], k: int) -> int:\n",
    "        nums = [-num for num in nums]\n",
    "\n",
    "        heapq.heapify(nums)\n",
    "\n",
    "        while k > 0:\n",
    "            res = heapq.heappop(nums)\n",
    "            k -= 1\n",
    "\n",
    "        return -res"
   ]
  }
 ],
 "metadata": {
  "kernelspec": {
   "display_name": "Python 3 (ipykernel)",
   "language": "python",
   "name": "python3"
  },
  "language_info": {
   "codemirror_mode": {
    "name": "ipython",
    "version": 3
   },
   "file_extension": ".py",
   "mimetype": "text/x-python",
   "name": "python",
   "nbconvert_exporter": "python",
   "pygments_lexer": "ipython3",
   "version": "3.12.8"
  }
 },
 "nbformat": 4,
 "nbformat_minor": 5
}
