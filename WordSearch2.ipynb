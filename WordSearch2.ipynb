{
 "cells": [
  {
   "cell_type": "markdown",
   "id": "8f035913-6433-4924-8d2a-ca5bb5de660d",
   "metadata": {},
   "source": [
    "### 212. Word Search II"
   ]
  },
  {
   "cell_type": "markdown",
   "id": "db5cb8a4-9576-42df-801f-846e83daff6d",
   "metadata": {},
   "source": [
    "Given an m x n board of characters and a list of strings words, return all words on the board.\n",
    "\n",
    "Each word must be constructed from letters of sequentially adjacent cells, where adjacent cells are horizontally or vertically neighboring. The same letter cell may not be used more than once in a word.\n",
    "\n",
    " \n",
    "\n",
    "Example 1:\n",
    "\n",
    "\n",
    "Input: board = [[\"o\",\"a\",\"a\",\"n\"],[\"e\",\"t\",\"a\",\"e\"],[\"i\",\"h\",\"k\",\"r\"],[\"i\",\"f\",\"l\",\"v\"]], words = [\"oath\",\"pea\",\"eat\",\"rain\"]\n",
    "Output: [\"eat\",\"oath\"]\n",
    "Example 2:\n",
    "\n",
    "\n",
    "Input: board = [[\"a\",\"b\"],[\"c\",\"d\"]], words = [\"abcb\"]\n",
    "Output: []"
   ]
  },
  {
   "cell_type": "code",
   "execution_count": null,
   "id": "23eebf0e-71e7-470e-9816-ca09038e1892",
   "metadata": {},
   "outputs": [],
   "source": [
    "class TrieNode:\n",
    "    def __init__(self):\n",
    "        self.children = {}\n",
    "        self.endofword = False\n",
    "\n",
    "    def add(self, word):\n",
    "        curr = self\n",
    "\n",
    "        for c in word:\n",
    "            if c not in curr.children:\n",
    "                curr.children[c] = TrieNode()\n",
    "            curr = curr.children[c]\n",
    "        curr.endofword = True\n",
    "\n",
    "\n",
    "class Solution:\n",
    "    def findWords(self, board: List[List[str]], words: List[str]) -> List[str]:\n",
    "        curr = TrieNode()\n",
    "\n",
    "        for word in words:\n",
    "            curr.add(word)\n",
    "        \n",
    "        rows, cols = len(board), len(board[0])\n",
    "        res, path = set(), set()\n",
    "\n",
    "        def dfs(r, c, node, word):\n",
    "            if (r < 0 or c < 0 or\n",
    "                r >= rows or c >= cols or\n",
    "                (r, c) in path or board[r][c] not in node.children):\n",
    "                return\n",
    "\n",
    "            path.add((r,c))\n",
    "            node = node.children[board[r][c]]\n",
    "            word += board[r][c]\n",
    "\n",
    "            if node.endofword:\n",
    "                res.add(word)\n",
    "\n",
    "            dfs(r + 1, c, node, word)\n",
    "            dfs(r - 1, c, node, word)\n",
    "            dfs(r, c + 1, node, word)\n",
    "            dfs(r, c - 1, node, word)\n",
    "\n",
    "            path.remove((r, c))\n",
    "\n",
    "        for r in range(rows):\n",
    "            for c in range(cols):\n",
    "                dfs(r, c, curr, \"\")\n",
    "\n",
    "        return list(res)"
   ]
  }
 ],
 "metadata": {
  "kernelspec": {
   "display_name": "Python 3 (ipykernel)",
   "language": "python",
   "name": "python3"
  },
  "language_info": {
   "codemirror_mode": {
    "name": "ipython",
    "version": 3
   },
   "file_extension": ".py",
   "mimetype": "text/x-python",
   "name": "python",
   "nbconvert_exporter": "python",
   "pygments_lexer": "ipython3",
   "version": "3.12.8"
  }
 },
 "nbformat": 4,
 "nbformat_minor": 5
}
